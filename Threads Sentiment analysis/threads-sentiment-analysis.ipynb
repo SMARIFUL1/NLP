{
 "cells": [
  {
   "cell_type": "code",
   "execution_count": 1,
   "id": "e5a2b66c",
   "metadata": {
    "_cell_guid": "b1076dfc-b9ad-4769-8c92-a6c4dae69d19",
    "_uuid": "8f2839f25d086af736a60e9eeb907d3b93b6e0e5",
    "execution": {
     "iopub.execute_input": "2023-08-20T00:25:24.668599Z",
     "iopub.status.busy": "2023-08-20T00:25:24.667972Z",
     "iopub.status.idle": "2023-08-20T00:25:25.975040Z",
     "shell.execute_reply": "2023-08-20T00:25:25.973924Z"
    },
    "papermill": {
     "duration": 1.326357,
     "end_time": "2023-08-20T00:25:25.977343",
     "exception": false,
     "start_time": "2023-08-20T00:25:24.650986",
     "status": "completed"
    },
    "tags": []
   },
   "outputs": [
    {
     "name": "stderr",
     "output_type": "stream",
     "text": [
      "/opt/conda/lib/python3.10/site-packages/scipy/__init__.py:146: UserWarning: A NumPy version >=1.16.5 and <1.23.0 is required for this version of SciPy (detected version 1.23.5\n",
      "  warnings.warn(f\"A NumPy version >={np_minversion} and <{np_maxversion}\"\n"
     ]
    },
    {
     "name": "stdout",
     "output_type": "stream",
     "text": [
      "/kaggle/input/threads-an-instagram-app-reviews/threads_reviews.csv\n"
     ]
    }
   ],
   "source": [
    "import numpy as np\n",
    "import pandas as pd \n",
    "import matplotlib.pyplot as plt\n",
    "import seaborn as sns\n",
    "%matplotlib inline\n",
    "import re\n",
    "\n",
    "import warnings\n",
    "warnings.filterwarnings('ignore')\n",
    "\n",
    "import os\n",
    "for dirname, _, filenames in os.walk('/kaggle/input'):\n",
    "    for filename in filenames:\n",
    "        print(os.path.join(dirname, filename))"
   ]
  },
  {
   "cell_type": "code",
   "execution_count": 2,
   "id": "66fc3035",
   "metadata": {
    "execution": {
     "iopub.execute_input": "2023-08-20T00:25:26.008387Z",
     "iopub.status.busy": "2023-08-20T00:25:26.008009Z",
     "iopub.status.idle": "2023-08-20T00:25:26.168617Z",
     "shell.execute_reply": "2023-08-20T00:25:26.167761Z"
    },
    "papermill": {
     "duration": 0.178086,
     "end_time": "2023-08-20T00:25:26.170851",
     "exception": false,
     "start_time": "2023-08-20T00:25:25.992765",
     "status": "completed"
    },
    "tags": []
   },
   "outputs": [],
   "source": [
    "df = pd.read_csv('/kaggle/input/threads-an-instagram-app-reviews/threads_reviews.csv')"
   ]
  },
  {
   "cell_type": "code",
   "execution_count": 3,
   "id": "e3d76eaf",
   "metadata": {
    "execution": {
     "iopub.execute_input": "2023-08-20T00:25:26.201765Z",
     "iopub.status.busy": "2023-08-20T00:25:26.200657Z",
     "iopub.status.idle": "2023-08-20T00:25:26.222523Z",
     "shell.execute_reply": "2023-08-20T00:25:26.220998Z"
    },
    "papermill": {
     "duration": 0.040394,
     "end_time": "2023-08-20T00:25:26.225411",
     "exception": false,
     "start_time": "2023-08-20T00:25:26.185017",
     "status": "completed"
    },
    "tags": []
   },
   "outputs": [
    {
     "data": {
      "text/html": [
       "<div>\n",
       "<style scoped>\n",
       "    .dataframe tbody tr th:only-of-type {\n",
       "        vertical-align: middle;\n",
       "    }\n",
       "\n",
       "    .dataframe tbody tr th {\n",
       "        vertical-align: top;\n",
       "    }\n",
       "\n",
       "    .dataframe thead th {\n",
       "        text-align: right;\n",
       "    }\n",
       "</style>\n",
       "<table border=\"1\" class=\"dataframe\">\n",
       "  <thead>\n",
       "    <tr style=\"text-align: right;\">\n",
       "      <th></th>\n",
       "      <th>source</th>\n",
       "      <th>review_description</th>\n",
       "      <th>rating</th>\n",
       "      <th>review_date</th>\n",
       "    </tr>\n",
       "  </thead>\n",
       "  <tbody>\n",
       "    <tr>\n",
       "      <th>0</th>\n",
       "      <td>Google Play</td>\n",
       "      <td>Meh. Not the greatest experience on a Chromebo...</td>\n",
       "      <td>2</td>\n",
       "      <td>2023-07-08 14:18:24</td>\n",
       "    </tr>\n",
       "    <tr>\n",
       "      <th>1</th>\n",
       "      <td>Google Play</td>\n",
       "      <td>Pretty good for a first launch!! Its easy to u...</td>\n",
       "      <td>3</td>\n",
       "      <td>2023-07-19 20:52:48</td>\n",
       "    </tr>\n",
       "    <tr>\n",
       "      <th>2</th>\n",
       "      <td>Google Play</td>\n",
       "      <td>For a brand new app, it's very well optimized....</td>\n",
       "      <td>3</td>\n",
       "      <td>2023-07-06 23:03:11</td>\n",
       "    </tr>\n",
       "    <tr>\n",
       "      <th>3</th>\n",
       "      <td>Google Play</td>\n",
       "      <td>Great app with a lot of potential! However, th...</td>\n",
       "      <td>3</td>\n",
       "      <td>2023-07-10 00:53:25</td>\n",
       "    </tr>\n",
       "    <tr>\n",
       "      <th>4</th>\n",
       "      <td>Google Play</td>\n",
       "      <td>The app is good, but it needs a lot of functio...</td>\n",
       "      <td>3</td>\n",
       "      <td>2023-07-06 16:57:43</td>\n",
       "    </tr>\n",
       "  </tbody>\n",
       "</table>\n",
       "</div>"
      ],
      "text/plain": [
       "        source                                 review_description  rating  \\\n",
       "0  Google Play  Meh. Not the greatest experience on a Chromebo...       2   \n",
       "1  Google Play  Pretty good for a first launch!! Its easy to u...       3   \n",
       "2  Google Play  For a brand new app, it's very well optimized....       3   \n",
       "3  Google Play  Great app with a lot of potential! However, th...       3   \n",
       "4  Google Play  The app is good, but it needs a lot of functio...       3   \n",
       "\n",
       "           review_date  \n",
       "0  2023-07-08 14:18:24  \n",
       "1  2023-07-19 20:52:48  \n",
       "2  2023-07-06 23:03:11  \n",
       "3  2023-07-10 00:53:25  \n",
       "4  2023-07-06 16:57:43  "
      ]
     },
     "execution_count": 3,
     "metadata": {},
     "output_type": "execute_result"
    }
   ],
   "source": [
    "df.head()"
   ]
  },
  {
   "cell_type": "code",
   "execution_count": 4,
   "id": "3deda56b",
   "metadata": {
    "execution": {
     "iopub.execute_input": "2023-08-20T00:25:26.256482Z",
     "iopub.status.busy": "2023-08-20T00:25:26.255830Z",
     "iopub.status.idle": "2023-08-20T00:25:26.298330Z",
     "shell.execute_reply": "2023-08-20T00:25:26.296780Z"
    },
    "papermill": {
     "duration": 0.060407,
     "end_time": "2023-08-20T00:25:26.300429",
     "exception": false,
     "start_time": "2023-08-20T00:25:26.240022",
     "status": "completed"
    },
    "tags": []
   },
   "outputs": [
    {
     "name": "stdout",
     "output_type": "stream",
     "text": [
      "<class 'pandas.core.frame.DataFrame'>\n",
      "RangeIndex: 32910 entries, 0 to 32909\n",
      "Data columns (total 4 columns):\n",
      " #   Column              Non-Null Count  Dtype \n",
      "---  ------              --------------  ----- \n",
      " 0   source              32910 non-null  object\n",
      " 1   review_description  32910 non-null  object\n",
      " 2   rating              32910 non-null  int64 \n",
      " 3   review_date         32910 non-null  object\n",
      "dtypes: int64(1), object(3)\n",
      "memory usage: 1.0+ MB\n"
     ]
    }
   ],
   "source": [
    "df.info()"
   ]
  },
  {
   "cell_type": "code",
   "execution_count": 5,
   "id": "366e26e5",
   "metadata": {
    "execution": {
     "iopub.execute_input": "2023-08-20T00:25:26.330463Z",
     "iopub.status.busy": "2023-08-20T00:25:26.330063Z",
     "iopub.status.idle": "2023-08-20T00:25:26.343983Z",
     "shell.execute_reply": "2023-08-20T00:25:26.343145Z"
    },
    "papermill": {
     "duration": 0.031513,
     "end_time": "2023-08-20T00:25:26.346033",
     "exception": false,
     "start_time": "2023-08-20T00:25:26.314520",
     "status": "completed"
    },
    "tags": []
   },
   "outputs": [],
   "source": [
    "#since review_date is object,need to convert into date time format\n",
    "df['review_date'] = pd.to_datetime(df['review_date'])"
   ]
  },
  {
   "cell_type": "code",
   "execution_count": 6,
   "id": "1257f27d",
   "metadata": {
    "execution": {
     "iopub.execute_input": "2023-08-20T00:25:26.376126Z",
     "iopub.status.busy": "2023-08-20T00:25:26.375745Z",
     "iopub.status.idle": "2023-08-20T00:25:26.398397Z",
     "shell.execute_reply": "2023-08-20T00:25:26.396988Z"
    },
    "papermill": {
     "duration": 0.040443,
     "end_time": "2023-08-20T00:25:26.400758",
     "exception": false,
     "start_time": "2023-08-20T00:25:26.360315",
     "status": "completed"
    },
    "tags": []
   },
   "outputs": [
    {
     "data": {
      "text/html": [
       "<div>\n",
       "<style scoped>\n",
       "    .dataframe tbody tr th:only-of-type {\n",
       "        vertical-align: middle;\n",
       "    }\n",
       "\n",
       "    .dataframe tbody tr th {\n",
       "        vertical-align: top;\n",
       "    }\n",
       "\n",
       "    .dataframe thead th {\n",
       "        text-align: right;\n",
       "    }\n",
       "</style>\n",
       "<table border=\"1\" class=\"dataframe\">\n",
       "  <thead>\n",
       "    <tr style=\"text-align: right;\">\n",
       "      <th></th>\n",
       "      <th>count</th>\n",
       "      <th>mean</th>\n",
       "      <th>std</th>\n",
       "      <th>min</th>\n",
       "      <th>25%</th>\n",
       "      <th>50%</th>\n",
       "      <th>75%</th>\n",
       "      <th>max</th>\n",
       "    </tr>\n",
       "  </thead>\n",
       "  <tbody>\n",
       "    <tr>\n",
       "      <th>rating</th>\n",
       "      <td>32910.0</td>\n",
       "      <td>3.398481</td>\n",
       "      <td>1.75148</td>\n",
       "      <td>1.0</td>\n",
       "      <td>1.0</td>\n",
       "      <td>4.0</td>\n",
       "      <td>5.0</td>\n",
       "      <td>5.0</td>\n",
       "    </tr>\n",
       "  </tbody>\n",
       "</table>\n",
       "</div>"
      ],
      "text/plain": [
       "          count      mean      std  min  25%  50%  75%  max\n",
       "rating  32910.0  3.398481  1.75148  1.0  1.0  4.0  5.0  5.0"
      ]
     },
     "execution_count": 6,
     "metadata": {},
     "output_type": "execute_result"
    }
   ],
   "source": [
    "df.describe().T"
   ]
  },
  {
   "cell_type": "code",
   "execution_count": 7,
   "id": "d39b09df",
   "metadata": {
    "execution": {
     "iopub.execute_input": "2023-08-20T00:25:26.432688Z",
     "iopub.status.busy": "2023-08-20T00:25:26.432038Z",
     "iopub.status.idle": "2023-08-20T00:25:26.439824Z",
     "shell.execute_reply": "2023-08-20T00:25:26.438853Z"
    },
    "papermill": {
     "duration": 0.02553,
     "end_time": "2023-08-20T00:25:26.441665",
     "exception": false,
     "start_time": "2023-08-20T00:25:26.416135",
     "status": "completed"
    },
    "tags": []
   },
   "outputs": [
    {
     "name": "stdout",
     "output_type": "stream",
     "text": [
      "['Google Play' 'App Store']\n"
     ]
    }
   ],
   "source": [
    "print(df['source'].unique())"
   ]
  },
  {
   "cell_type": "code",
   "execution_count": 8,
   "id": "77e7f088",
   "metadata": {
    "execution": {
     "iopub.execute_input": "2023-08-20T00:25:26.473093Z",
     "iopub.status.busy": "2023-08-20T00:25:26.472499Z",
     "iopub.status.idle": "2023-08-20T00:25:26.480578Z",
     "shell.execute_reply": "2023-08-20T00:25:26.479633Z"
    },
    "papermill": {
     "duration": 0.025869,
     "end_time": "2023-08-20T00:25:26.482471",
     "exception": false,
     "start_time": "2023-08-20T00:25:26.456602",
     "status": "completed"
    },
    "tags": []
   },
   "outputs": [
    {
     "data": {
      "text/plain": [
       "array([2, 3, 1, 5, 4])"
      ]
     },
     "execution_count": 8,
     "metadata": {},
     "output_type": "execute_result"
    }
   ],
   "source": [
    "df['rating'].unique()"
   ]
  },
  {
   "cell_type": "code",
   "execution_count": 9,
   "id": "56780f9a",
   "metadata": {
    "execution": {
     "iopub.execute_input": "2023-08-20T00:25:26.513422Z",
     "iopub.status.busy": "2023-08-20T00:25:26.513017Z",
     "iopub.status.idle": "2023-08-20T00:25:26.726628Z",
     "shell.execute_reply": "2023-08-20T00:25:26.725574Z"
    },
    "papermill": {
     "duration": 0.232077,
     "end_time": "2023-08-20T00:25:26.729096",
     "exception": false,
     "start_time": "2023-08-20T00:25:26.497019",
     "status": "completed"
    },
    "tags": []
   },
   "outputs": [],
   "source": [
    "#from reviw_date, have to extract day,week,month,year\n",
    "df['date'] = df['review_date'].dt.date\n",
    "df['day'] = df['review_date'].dt.day\n",
    "df['day_name']= df['review_date'].dt.strftime('%A')\n",
    "df['week'] = df['review_date'].dt.isocalendar().week\n",
    "df['month'] = df['review_date'].dt.month\n",
    "df['year'] = df['review_date'].dt.isocalendar().year"
   ]
  },
  {
   "cell_type": "code",
   "execution_count": 10,
   "id": "5c6da999",
   "metadata": {
    "execution": {
     "iopub.execute_input": "2023-08-20T00:25:26.759675Z",
     "iopub.status.busy": "2023-08-20T00:25:26.759332Z",
     "iopub.status.idle": "2023-08-20T00:25:26.783042Z",
     "shell.execute_reply": "2023-08-20T00:25:26.781863Z"
    },
    "papermill": {
     "duration": 0.041556,
     "end_time": "2023-08-20T00:25:26.785202",
     "exception": false,
     "start_time": "2023-08-20T00:25:26.743646",
     "status": "completed"
    },
    "tags": []
   },
   "outputs": [
    {
     "data": {
      "text/html": [
       "<div>\n",
       "<style scoped>\n",
       "    .dataframe tbody tr th:only-of-type {\n",
       "        vertical-align: middle;\n",
       "    }\n",
       "\n",
       "    .dataframe tbody tr th {\n",
       "        vertical-align: top;\n",
       "    }\n",
       "\n",
       "    .dataframe thead th {\n",
       "        text-align: right;\n",
       "    }\n",
       "</style>\n",
       "<table border=\"1\" class=\"dataframe\">\n",
       "  <thead>\n",
       "    <tr style=\"text-align: right;\">\n",
       "      <th></th>\n",
       "      <th>source</th>\n",
       "      <th>review_description</th>\n",
       "      <th>rating</th>\n",
       "      <th>review_date</th>\n",
       "      <th>date</th>\n",
       "      <th>day</th>\n",
       "      <th>day_name</th>\n",
       "      <th>week</th>\n",
       "      <th>month</th>\n",
       "      <th>year</th>\n",
       "    </tr>\n",
       "  </thead>\n",
       "  <tbody>\n",
       "    <tr>\n",
       "      <th>32255</th>\n",
       "      <td>App Store</td>\n",
       "      <td>Stop logging me out😐 let me stay logged in lik...</td>\n",
       "      <td>3</td>\n",
       "      <td>2023-07-15 19:32:49</td>\n",
       "      <td>2023-07-15</td>\n",
       "      <td>15</td>\n",
       "      <td>Saturday</td>\n",
       "      <td>28</td>\n",
       "      <td>7</td>\n",
       "      <td>2023</td>\n",
       "    </tr>\n",
       "    <tr>\n",
       "      <th>8177</th>\n",
       "      <td>Google Play</td>\n",
       "      <td>Too much censorship, Twitter is better.</td>\n",
       "      <td>1</td>\n",
       "      <td>2023-07-15 07:38:45</td>\n",
       "      <td>2023-07-15</td>\n",
       "      <td>15</td>\n",
       "      <td>Saturday</td>\n",
       "      <td>28</td>\n",
       "      <td>7</td>\n",
       "      <td>2023</td>\n",
       "    </tr>\n",
       "  </tbody>\n",
       "</table>\n",
       "</div>"
      ],
      "text/plain": [
       "            source                                 review_description  rating  \\\n",
       "32255    App Store  Stop logging me out😐 let me stay logged in lik...       3   \n",
       "8177   Google Play            Too much censorship, Twitter is better.       1   \n",
       "\n",
       "              review_date        date  day  day_name  week  month  year  \n",
       "32255 2023-07-15 19:32:49  2023-07-15   15  Saturday    28      7  2023  \n",
       "8177  2023-07-15 07:38:45  2023-07-15   15  Saturday    28      7  2023  "
      ]
     },
     "execution_count": 10,
     "metadata": {},
     "output_type": "execute_result"
    }
   ],
   "source": [
    "df.sample(2)"
   ]
  },
  {
   "cell_type": "code",
   "execution_count": 11,
   "id": "88eb7ef5",
   "metadata": {
    "execution": {
     "iopub.execute_input": "2023-08-20T00:25:26.820118Z",
     "iopub.status.busy": "2023-08-20T00:25:26.819758Z",
     "iopub.status.idle": "2023-08-20T00:25:27.144465Z",
     "shell.execute_reply": "2023-08-20T00:25:27.143473Z"
    },
    "papermill": {
     "duration": 0.343949,
     "end_time": "2023-08-20T00:25:27.146649",
     "exception": false,
     "start_time": "2023-08-20T00:25:26.802700",
     "status": "completed"
    },
    "tags": []
   },
   "outputs": [
    {
     "data": {
      "text/plain": [
       "Text(0.5, 0, 'Reviews star')"
      ]
     },
     "execution_count": 11,
     "metadata": {},
     "output_type": "execute_result"
    },
    {
     "data": {
      "image/png": "[encoded data removed]",
      "text/plain": [
       "<Figure size 640x480 with 1 Axes>"
      ]
     },
     "metadata": {},
     "output_type": "display_data"
    }
   ],
   "source": [
    "ax=df['rating'].value_counts().sort_index().plot(kind='bar',title='Reviews count by star')\n",
    "ax.set_xlabel('Reviews star')"
   ]
  },
  {
   "cell_type": "code",
   "execution_count": 12,
   "id": "f9cd7421",
   "metadata": {
    "execution": {
     "iopub.execute_input": "2023-08-20T00:25:27.179411Z",
     "iopub.status.busy": "2023-08-20T00:25:27.179044Z",
     "iopub.status.idle": "2023-08-20T00:25:27.240639Z",
     "shell.execute_reply": "2023-08-20T00:25:27.239672Z"
    },
    "papermill": {
     "duration": 0.080932,
     "end_time": "2023-08-20T00:25:27.243012",
     "exception": false,
     "start_time": "2023-08-20T00:25:27.162080",
     "status": "completed"
    },
    "tags": []
   },
   "outputs": [],
   "source": [
    "#removing the Duplicates if any\n",
    "df.duplicated().sum()\n",
    "df.drop_duplicates(inplace=True)"
   ]
  },
  {
   "cell_type": "code",
   "execution_count": 13,
   "id": "86d720af",
   "metadata": {
    "execution": {
     "iopub.execute_input": "2023-08-20T00:25:27.275914Z",
     "iopub.status.busy": "2023-08-20T00:25:27.275553Z",
     "iopub.status.idle": "2023-08-20T00:25:27.283364Z",
     "shell.execute_reply": "2023-08-20T00:25:27.282447Z"
    },
    "papermill": {
     "duration": 0.026398,
     "end_time": "2023-08-20T00:25:27.285229",
     "exception": false,
     "start_time": "2023-08-20T00:25:27.258831",
     "status": "completed"
    },
    "tags": []
   },
   "outputs": [
    {
     "data": {
      "text/plain": [
       "5    15558\n",
       "1     9726\n",
       "4     3244\n",
       "3     2585\n",
       "2     1796\n",
       "Name: rating, dtype: int64"
      ]
     },
     "execution_count": 13,
     "metadata": {},
     "output_type": "execute_result"
    }
   ],
   "source": [
    "df['rating'].value_counts()"
   ]
  },
  {
   "cell_type": "code",
   "execution_count": 14,
   "id": "c11c21a0",
   "metadata": {
    "execution": {
     "iopub.execute_input": "2023-08-20T00:25:27.319037Z",
     "iopub.status.busy": "2023-08-20T00:25:27.318689Z",
     "iopub.status.idle": "2023-08-20T00:25:28.014227Z",
     "shell.execute_reply": "2023-08-20T00:25:28.013203Z"
    },
    "papermill": {
     "duration": 0.714845,
     "end_time": "2023-08-20T00:25:28.016407",
     "exception": false,
     "start_time": "2023-08-20T00:25:27.301562",
     "status": "completed"
    },
    "tags": []
   },
   "outputs": [
    {
     "data": {
      "text/plain": [
       "<Axes: xlabel='week', ylabel='rating'>"
      ]
     },
     "execution_count": 14,
     "metadata": {},
     "output_type": "execute_result"
    },
    {
     "data": {
      "image/png": "[encoded data removed]",
      "text/plain": [
       "<Figure size 640x480 with 1 Axes>"
      ]
     },
     "metadata": {},
     "output_type": "display_data"
    }
   ],
   "source": [
    "sns.barplot(df, x='week',y='rating')"
   ]
  },
  {
   "cell_type": "code",
   "execution_count": 15,
   "id": "98fa8f57",
   "metadata": {
    "execution": {
     "iopub.execute_input": "2023-08-20T00:25:28.051288Z",
     "iopub.status.busy": "2023-08-20T00:25:28.050297Z",
     "iopub.status.idle": "2023-08-20T00:25:28.329149Z",
     "shell.execute_reply": "2023-08-20T00:25:28.328245Z"
    },
    "papermill": {
     "duration": 0.298025,
     "end_time": "2023-08-20T00:25:28.331097",
     "exception": false,
     "start_time": "2023-08-20T00:25:28.033072",
     "status": "completed"
    },
    "tags": []
   },
   "outputs": [
    {
     "data": {
      "text/plain": [
       "Text(0.5, 0, 'Week')"
      ]
     },
     "execution_count": 15,
     "metadata": {},
     "output_type": "execute_result"
    },
    {
     "data": {
      "image/png": "[encoded data removed]",
      "text/plain": [
       "<Figure size 640x480 with 1 Axes>"
      ]
     },
     "metadata": {},
     "output_type": "display_data"
    }
   ],
   "source": [
    "review_week = df['week'].value_counts().sort_index()\n",
    "plt.plot(review_week)\n",
    "plt.title('Review trend per week')\n",
    "plt.xlabel('Week')"
   ]
  },
  {
   "cell_type": "code",
   "execution_count": 16,
   "id": "994baf93",
   "metadata": {
    "execution": {
     "iopub.execute_input": "2023-08-20T00:25:28.366317Z",
     "iopub.status.busy": "2023-08-20T00:25:28.365619Z",
     "iopub.status.idle": "2023-08-20T00:25:28.635606Z",
     "shell.execute_reply": "2023-08-20T00:25:28.634604Z"
    },
    "papermill": {
     "duration": 0.290069,
     "end_time": "2023-08-20T00:25:28.637743",
     "exception": false,
     "start_time": "2023-08-20T00:25:28.347674",
     "status": "completed"
    },
    "tags": []
   },
   "outputs": [
    {
     "data": {
      "text/plain": [
       "Text(0.5, 0, 'Day Name')"
      ]
     },
     "execution_count": 16,
     "metadata": {},
     "output_type": "execute_result"
    },
    {
     "data": {
      "image/png": "[encoded data removed]",
      "text/plain": [
       "<Figure size 640x480 with 1 Axes>"
      ]
     },
     "metadata": {},
     "output_type": "display_data"
    }
   ],
   "source": [
    "review_day = df['day_name'].value_counts().sort_index()\n",
    "plt.plot(review_day,color='r')\n",
    "plt.title('Reviews trend in Week days')\n",
    "plt.xlabel('Day Name')"
   ]
  },
  {
   "cell_type": "code",
   "execution_count": 17,
   "id": "eae3a3a0",
   "metadata": {
    "execution": {
     "iopub.execute_input": "2023-08-20T00:25:28.674935Z",
     "iopub.status.busy": "2023-08-20T00:25:28.674380Z",
     "iopub.status.idle": "2023-08-20T00:25:28.960586Z",
     "shell.execute_reply": "2023-08-20T00:25:28.959538Z"
    },
    "papermill": {
     "duration": 0.307182,
     "end_time": "2023-08-20T00:25:28.962786",
     "exception": false,
     "start_time": "2023-08-20T00:25:28.655604",
     "status": "completed"
    },
    "tags": []
   },
   "outputs": [
    {
     "data": {
      "text/plain": [
       "Text(0.5, 0, 'Day number')"
      ]
     },
     "execution_count": 17,
     "metadata": {},
     "output_type": "execute_result"
    },
    {
     "data": {
      "image/png": "[encoded data removed]",
      "text/plain": [
       "<Figure size 640x480 with 1 Axes>"
      ]
     },
     "metadata": {},
     "output_type": "display_data"
    }
   ],
   "source": [
    "review_each_day = df['day'].value_counts().sort_index()\n",
    "plt.plot(review_each_day,color='y')\n",
    "plt.title('Reviews trend per Day')\n",
    "plt.xlabel('Day number')"
   ]
  },
  {
   "cell_type": "code",
   "execution_count": 18,
   "id": "61f2b4b5",
   "metadata": {
    "execution": {
     "iopub.execute_input": "2023-08-20T00:25:29.000774Z",
     "iopub.status.busy": "2023-08-20T00:25:29.000390Z",
     "iopub.status.idle": "2023-08-20T00:25:29.373253Z",
     "shell.execute_reply": "2023-08-20T00:25:29.372212Z"
    },
    "papermill": {
     "duration": 0.394617,
     "end_time": "2023-08-20T00:25:29.375378",
     "exception": false,
     "start_time": "2023-08-20T00:25:28.980761",
     "status": "completed"
    },
    "tags": []
   },
   "outputs": [
    {
     "data": {
      "text/plain": [
       "Text(0.5, 0, 'day number')"
      ]
     },
     "execution_count": 18,
     "metadata": {},
     "output_type": "execute_result"
    },
    {
     "data": {
      "image/png": "[encoded data removed]",
      "text/plain": [
       "<Figure size 640x480 with 1 Axes>"
      ]
     },
     "metadata": {},
     "output_type": "display_data"
    }
   ],
   "source": [
    "rating_day=df['day'].value_counts()\n",
    "rating_day.plot(kind='bar')\n",
    "plt.title('Reviews trend in Day')\n",
    "plt.xlabel('day number')"
   ]
  },
  {
   "cell_type": "code",
   "execution_count": 19,
   "id": "75189f01",
   "metadata": {
    "execution": {
     "iopub.execute_input": "2023-08-20T00:25:29.415120Z",
     "iopub.status.busy": "2023-08-20T00:25:29.414637Z",
     "iopub.status.idle": "2023-08-20T00:25:29.577277Z",
     "shell.execute_reply": "2023-08-20T00:25:29.575812Z"
    },
    "papermill": {
     "duration": 0.186108,
     "end_time": "2023-08-20T00:25:29.580237",
     "exception": false,
     "start_time": "2023-08-20T00:25:29.394129",
     "status": "completed"
    },
    "tags": []
   },
   "outputs": [
    {
     "data": {
      "image/png": "[encoded data removed]",
      "text/plain": [
       "<Figure size 640x480 with 1 Axes>"
      ]
     },
     "metadata": {},
     "output_type": "display_data"
    }
   ],
   "source": [
    "# Rating distribution\n",
    "rating_counts = df['rating'].value_counts().sort_values()\n",
    "rating_counts.plot(kind='pie', autopct='%1.1f%%')\n",
    "plt.title('Ratings distribution')\n",
    "plt.axis('equal')\n",
    "plt.show()"
   ]
  },
  {
   "cell_type": "code",
   "execution_count": 20,
   "id": "ab2502a6",
   "metadata": {
    "execution": {
     "iopub.execute_input": "2023-08-20T00:25:29.641561Z",
     "iopub.status.busy": "2023-08-20T00:25:29.640869Z",
     "iopub.status.idle": "2023-08-20T00:25:29.648831Z",
     "shell.execute_reply": "2023-08-20T00:25:29.648084Z"
    },
    "papermill": {
     "duration": 0.038031,
     "end_time": "2023-08-20T00:25:29.650587",
     "exception": false,
     "start_time": "2023-08-20T00:25:29.612556",
     "status": "completed"
    },
    "tags": []
   },
   "outputs": [
    {
     "data": {
      "text/plain": [
       "array(['Google Play', 'App Store'], dtype=object)"
      ]
     },
     "execution_count": 20,
     "metadata": {},
     "output_type": "execute_result"
    }
   ],
   "source": [
    "df['source'].unique()"
   ]
  },
  {
   "cell_type": "code",
   "execution_count": 21,
   "id": "4d6a143f",
   "metadata": {
    "execution": {
     "iopub.execute_input": "2023-08-20T00:25:29.693331Z",
     "iopub.status.busy": "2023-08-20T00:25:29.692593Z",
     "iopub.status.idle": "2023-08-20T00:25:29.701597Z",
     "shell.execute_reply": "2023-08-20T00:25:29.700825Z"
    },
    "papermill": {
     "duration": 0.032624,
     "end_time": "2023-08-20T00:25:29.703410",
     "exception": false,
     "start_time": "2023-08-20T00:25:29.670786",
     "status": "completed"
    },
    "tags": []
   },
   "outputs": [
    {
     "data": {
      "text/plain": [
       "Google Play    30270\n",
       "App Store       2639\n",
       "Name: source, dtype: int64"
      ]
     },
     "execution_count": 21,
     "metadata": {},
     "output_type": "execute_result"
    }
   ],
   "source": [
    "df['source'].value_counts()"
   ]
  },
  {
   "cell_type": "code",
   "execution_count": 22,
   "id": "4f6af4ac",
   "metadata": {
    "execution": {
     "iopub.execute_input": "2023-08-20T00:25:29.745109Z",
     "iopub.status.busy": "2023-08-20T00:25:29.744343Z",
     "iopub.status.idle": "2023-08-20T00:25:29.960184Z",
     "shell.execute_reply": "2023-08-20T00:25:29.959121Z"
    },
    "papermill": {
     "duration": 0.239465,
     "end_time": "2023-08-20T00:25:29.962444",
     "exception": false,
     "start_time": "2023-08-20T00:25:29.722979",
     "status": "completed"
    },
    "tags": []
   },
   "outputs": [
    {
     "data": {
      "text/plain": [
       "<Axes: xlabel='source', ylabel='count'>"
      ]
     },
     "execution_count": 22,
     "metadata": {},
     "output_type": "execute_result"
    },
    {
     "data": {
      "image/png": "[encoded data removed]",
      "text/plain": [
       "<Figure size 640x480 with 1 Axes>"
      ]
     },
     "metadata": {},
     "output_type": "display_data"
    }
   ],
   "source": [
    "sns.countplot(df, x='source')"
   ]
  },
  {
   "cell_type": "code",
   "execution_count": 23,
   "id": "3a936f36",
   "metadata": {
    "execution": {
     "iopub.execute_input": "2023-08-20T00:25:30.003877Z",
     "iopub.status.busy": "2023-08-20T00:25:30.003483Z",
     "iopub.status.idle": "2023-08-20T00:25:30.028200Z",
     "shell.execute_reply": "2023-08-20T00:25:30.026921Z"
    },
    "papermill": {
     "duration": 0.048096,
     "end_time": "2023-08-20T00:25:30.030561",
     "exception": false,
     "start_time": "2023-08-20T00:25:29.982465",
     "status": "completed"
    },
    "tags": []
   },
   "outputs": [],
   "source": [
    "df= df[df['rating'] != 3]\n",
    "def polarity(x):\n",
    "    if x < 3:\n",
    "        return 0\n",
    "    else:\n",
    "        return 1\n",
    "df[\"rating\"] = df[\"rating\"].map(polarity)\n"
   ]
  },
  {
   "cell_type": "code",
   "execution_count": 24,
   "id": "218fe9b0",
   "metadata": {
    "execution": {
     "iopub.execute_input": "2023-08-20T00:25:30.073188Z",
     "iopub.status.busy": "2023-08-20T00:25:30.072769Z",
     "iopub.status.idle": "2023-08-20T00:25:30.096392Z",
     "shell.execute_reply": "2023-08-20T00:25:30.095345Z"
    },
    "papermill": {
     "duration": 0.047188,
     "end_time": "2023-08-20T00:25:30.098715",
     "exception": false,
     "start_time": "2023-08-20T00:25:30.051527",
     "status": "completed"
    },
    "tags": []
   },
   "outputs": [
    {
     "data": {
      "text/html": [
       "<div>\n",
       "<style scoped>\n",
       "    .dataframe tbody tr th:only-of-type {\n",
       "        vertical-align: middle;\n",
       "    }\n",
       "\n",
       "    .dataframe tbody tr th {\n",
       "        vertical-align: top;\n",
       "    }\n",
       "\n",
       "    .dataframe thead th {\n",
       "        text-align: right;\n",
       "    }\n",
       "</style>\n",
       "<table border=\"1\" class=\"dataframe\">\n",
       "  <thead>\n",
       "    <tr style=\"text-align: right;\">\n",
       "      <th></th>\n",
       "      <th>source</th>\n",
       "      <th>review_description</th>\n",
       "      <th>rating</th>\n",
       "      <th>review_date</th>\n",
       "      <th>date</th>\n",
       "      <th>day</th>\n",
       "      <th>day_name</th>\n",
       "      <th>week</th>\n",
       "      <th>month</th>\n",
       "      <th>year</th>\n",
       "    </tr>\n",
       "  </thead>\n",
       "  <tbody>\n",
       "    <tr>\n",
       "      <th>0</th>\n",
       "      <td>Google Play</td>\n",
       "      <td>Meh. Not the greatest experience on a Chromebo...</td>\n",
       "      <td>0</td>\n",
       "      <td>2023-07-08 14:18:24</td>\n",
       "      <td>2023-07-08</td>\n",
       "      <td>8</td>\n",
       "      <td>Saturday</td>\n",
       "      <td>27</td>\n",
       "      <td>7</td>\n",
       "      <td>2023</td>\n",
       "    </tr>\n",
       "    <tr>\n",
       "      <th>1</th>\n",
       "      <td>Google Play</td>\n",
       "      <td>Currently, it's very challenging to use. It's ...</td>\n",
       "      <td>0</td>\n",
       "      <td>2023-07-18 22:30:10</td>\n",
       "      <td>2023-07-18</td>\n",
       "      <td>18</td>\n",
       "      <td>Tuesday</td>\n",
       "      <td>29</td>\n",
       "      <td>7</td>\n",
       "      <td>2023</td>\n",
       "    </tr>\n",
       "    <tr>\n",
       "      <th>2</th>\n",
       "      <td>Google Play</td>\n",
       "      <td>I still don’t want to see content from people ...</td>\n",
       "      <td>0</td>\n",
       "      <td>2023-07-19 19:35:31</td>\n",
       "      <td>2023-07-19</td>\n",
       "      <td>19</td>\n",
       "      <td>Wednesday</td>\n",
       "      <td>29</td>\n",
       "      <td>7</td>\n",
       "      <td>2023</td>\n",
       "    </tr>\n",
       "    <tr>\n",
       "      <th>3</th>\n",
       "      <td>Google Play</td>\n",
       "      <td>Could be great if all pages loaded when you cl...</td>\n",
       "      <td>0</td>\n",
       "      <td>2023-07-06 14:35:15</td>\n",
       "      <td>2023-07-06</td>\n",
       "      <td>6</td>\n",
       "      <td>Thursday</td>\n",
       "      <td>27</td>\n",
       "      <td>7</td>\n",
       "      <td>2023</td>\n",
       "    </tr>\n",
       "    <tr>\n",
       "      <th>4</th>\n",
       "      <td>Google Play</td>\n",
       "      <td>Not bad! This is its first launch. There is st...</td>\n",
       "      <td>1</td>\n",
       "      <td>2023-07-06 23:41:13</td>\n",
       "      <td>2023-07-06</td>\n",
       "      <td>6</td>\n",
       "      <td>Thursday</td>\n",
       "      <td>27</td>\n",
       "      <td>7</td>\n",
       "      <td>2023</td>\n",
       "    </tr>\n",
       "    <tr>\n",
       "      <th>...</th>\n",
       "      <td>...</td>\n",
       "      <td>...</td>\n",
       "      <td>...</td>\n",
       "      <td>...</td>\n",
       "      <td>...</td>\n",
       "      <td>...</td>\n",
       "      <td>...</td>\n",
       "      <td>...</td>\n",
       "      <td>...</td>\n",
       "      <td>...</td>\n",
       "    </tr>\n",
       "    <tr>\n",
       "      <th>30319</th>\n",
       "      <td>App Store</td>\n",
       "      <td>This killed my dog. Mark zuckerburg strangled ...</td>\n",
       "      <td>0</td>\n",
       "      <td>2023-07-06 01:23:55</td>\n",
       "      <td>2023-07-06</td>\n",
       "      <td>6</td>\n",
       "      <td>Thursday</td>\n",
       "      <td>27</td>\n",
       "      <td>7</td>\n",
       "      <td>2023</td>\n",
       "    </tr>\n",
       "    <tr>\n",
       "      <th>30320</th>\n",
       "      <td>App Store</td>\n",
       "      <td>Add Search and hashtag like Twitter !</td>\n",
       "      <td>0</td>\n",
       "      <td>2023-07-19 08:01:06</td>\n",
       "      <td>2023-07-19</td>\n",
       "      <td>19</td>\n",
       "      <td>Wednesday</td>\n",
       "      <td>29</td>\n",
       "      <td>7</td>\n",
       "      <td>2023</td>\n",
       "    </tr>\n",
       "    <tr>\n",
       "      <th>30321</th>\n",
       "      <td>App Store</td>\n",
       "      <td>bad twister</td>\n",
       "      <td>0</td>\n",
       "      <td>2023-07-17 06:39:13</td>\n",
       "      <td>2023-07-17</td>\n",
       "      <td>17</td>\n",
       "      <td>Monday</td>\n",
       "      <td>29</td>\n",
       "      <td>7</td>\n",
       "      <td>2023</td>\n",
       "    </tr>\n",
       "    <tr>\n",
       "      <th>30322</th>\n",
       "      <td>App Store</td>\n",
       "      <td>Yet another trash from Meta.</td>\n",
       "      <td>0</td>\n",
       "      <td>2023-07-07 17:47:16</td>\n",
       "      <td>2023-07-07</td>\n",
       "      <td>7</td>\n",
       "      <td>Friday</td>\n",
       "      <td>27</td>\n",
       "      <td>7</td>\n",
       "      <td>2023</td>\n",
       "    </tr>\n",
       "    <tr>\n",
       "      <th>30323</th>\n",
       "      <td>App Store</td>\n",
       "      <td>Nothing special this app is just a copy of twi...</td>\n",
       "      <td>0</td>\n",
       "      <td>2023-07-07 07:01:43</td>\n",
       "      <td>2023-07-07</td>\n",
       "      <td>7</td>\n",
       "      <td>Friday</td>\n",
       "      <td>27</td>\n",
       "      <td>7</td>\n",
       "      <td>2023</td>\n",
       "    </tr>\n",
       "  </tbody>\n",
       "</table>\n",
       "<p>30324 rows × 10 columns</p>\n",
       "</div>"
      ],
      "text/plain": [
       "            source                                 review_description  rating  \\\n",
       "0      Google Play  Meh. Not the greatest experience on a Chromebo...       0   \n",
       "1      Google Play  Currently, it's very challenging to use. It's ...       0   \n",
       "2      Google Play  I still don’t want to see content from people ...       0   \n",
       "3      Google Play  Could be great if all pages loaded when you cl...       0   \n",
       "4      Google Play  Not bad! This is its first launch. There is st...       1   \n",
       "...            ...                                                ...     ...   \n",
       "30319    App Store  This killed my dog. Mark zuckerburg strangled ...       0   \n",
       "30320    App Store              Add Search and hashtag like Twitter !       0   \n",
       "30321    App Store                                        bad twister       0   \n",
       "30322    App Store                       Yet another trash from Meta.       0   \n",
       "30323    App Store  Nothing special this app is just a copy of twi...       0   \n",
       "\n",
       "              review_date        date  day   day_name  week  month  year  \n",
       "0     2023-07-08 14:18:24  2023-07-08    8   Saturday    27      7  2023  \n",
       "1     2023-07-18 22:30:10  2023-07-18   18    Tuesday    29      7  2023  \n",
       "2     2023-07-19 19:35:31  2023-07-19   19  Wednesday    29      7  2023  \n",
       "3     2023-07-06 14:35:15  2023-07-06    6   Thursday    27      7  2023  \n",
       "4     2023-07-06 23:41:13  2023-07-06    6   Thursday    27      7  2023  \n",
       "...                   ...         ...  ...        ...   ...    ...   ...  \n",
       "30319 2023-07-06 01:23:55  2023-07-06    6   Thursday    27      7  2023  \n",
       "30320 2023-07-19 08:01:06  2023-07-19   19  Wednesday    29      7  2023  \n",
       "30321 2023-07-17 06:39:13  2023-07-17   17     Monday    29      7  2023  \n",
       "30322 2023-07-07 17:47:16  2023-07-07    7     Friday    27      7  2023  \n",
       "30323 2023-07-07 07:01:43  2023-07-07    7     Friday    27      7  2023  \n",
       "\n",
       "[30324 rows x 10 columns]"
      ]
     },
     "execution_count": 24,
     "metadata": {},
     "output_type": "execute_result"
    }
   ],
   "source": [
    "df.reset_index(drop=True)"
   ]
  },
  {
   "cell_type": "code",
   "execution_count": 25,
   "id": "3181607e",
   "metadata": {
    "execution": {
     "iopub.execute_input": "2023-08-20T00:25:30.141072Z",
     "iopub.status.busy": "2023-08-20T00:25:30.140323Z",
     "iopub.status.idle": "2023-08-20T00:25:30.148118Z",
     "shell.execute_reply": "2023-08-20T00:25:30.147413Z"
    },
    "papermill": {
     "duration": 0.031049,
     "end_time": "2023-08-20T00:25:30.149929",
     "exception": false,
     "start_time": "2023-08-20T00:25:30.118880",
     "status": "completed"
    },
    "tags": []
   },
   "outputs": [
    {
     "data": {
      "text/plain": [
       "1    18802\n",
       "0    11522\n",
       "Name: rating, dtype: int64"
      ]
     },
     "execution_count": 25,
     "metadata": {},
     "output_type": "execute_result"
    }
   ],
   "source": [
    "df['rating'].value_counts()"
   ]
  },
  {
   "cell_type": "code",
   "execution_count": 26,
   "id": "ae6b75eb",
   "metadata": {
    "execution": {
     "iopub.execute_input": "2023-08-20T00:25:30.192993Z",
     "iopub.status.busy": "2023-08-20T00:25:30.192285Z",
     "iopub.status.idle": "2023-08-20T00:25:30.312223Z",
     "shell.execute_reply": "2023-08-20T00:25:30.311132Z"
    },
    "papermill": {
     "duration": 0.144712,
     "end_time": "2023-08-20T00:25:30.315080",
     "exception": false,
     "start_time": "2023-08-20T00:25:30.170368",
     "status": "completed"
    },
    "tags": []
   },
   "outputs": [
    {
     "data": {
      "text/plain": [
       "<Axes: ylabel='rating'>"
      ]
     },
     "execution_count": 26,
     "metadata": {},
     "output_type": "execute_result"
    },
    {
     "data": {
      "image/png": "[encoded data removed]",
      "text/plain": [
       "<Figure size 640x480 with 1 Axes>"
      ]
     },
     "metadata": {},
     "output_type": "display_data"
    }
   ],
   "source": [
    "df['rating'].value_counts().plot(kind='pie', autopct='%1.f%%')"
   ]
  },
  {
   "cell_type": "code",
   "execution_count": 27,
   "id": "4ba556d4",
   "metadata": {
    "execution": {
     "iopub.execute_input": "2023-08-20T00:25:30.392856Z",
     "iopub.status.busy": "2023-08-20T00:25:30.391909Z",
     "iopub.status.idle": "2023-08-20T00:25:30.403174Z",
     "shell.execute_reply": "2023-08-20T00:25:30.402391Z"
    },
    "papermill": {
     "duration": 0.051857,
     "end_time": "2023-08-20T00:25:30.404896",
     "exception": false,
     "start_time": "2023-08-20T00:25:30.353039",
     "status": "completed"
    },
    "tags": []
   },
   "outputs": [
    {
     "name": "stdout",
     "output_type": "stream",
     "text": [
      "(30324, 2)\n"
     ]
    },
    {
     "data": {
      "text/html": [
       "<div>\n",
       "<style scoped>\n",
       "    .dataframe tbody tr th:only-of-type {\n",
       "        vertical-align: middle;\n",
       "    }\n",
       "\n",
       "    .dataframe tbody tr th {\n",
       "        vertical-align: top;\n",
       "    }\n",
       "\n",
       "    .dataframe thead th {\n",
       "        text-align: right;\n",
       "    }\n",
       "</style>\n",
       "<table border=\"1\" class=\"dataframe\">\n",
       "  <thead>\n",
       "    <tr style=\"text-align: right;\">\n",
       "      <th></th>\n",
       "      <th>review_description</th>\n",
       "      <th>rating</th>\n",
       "    </tr>\n",
       "  </thead>\n",
       "  <tbody>\n",
       "    <tr>\n",
       "      <th>0</th>\n",
       "      <td>Meh. Not the greatest experience on a Chromebo...</td>\n",
       "      <td>0</td>\n",
       "    </tr>\n",
       "    <tr>\n",
       "      <th>5</th>\n",
       "      <td>Currently, it's very challenging to use. It's ...</td>\n",
       "      <td>0</td>\n",
       "    </tr>\n",
       "  </tbody>\n",
       "</table>\n",
       "</div>"
      ],
      "text/plain": [
       "                                  review_description  rating\n",
       "0  Meh. Not the greatest experience on a Chromebo...       0\n",
       "5  Currently, it's very challenging to use. It's ...       0"
      ]
     },
     "execution_count": 27,
     "metadata": {},
     "output_type": "execute_result"
    }
   ],
   "source": [
    "data = pd.DataFrame(df, columns=['review_description','rating'])\n",
    "print(data.shape)\n",
    "data.head(2)"
   ]
  },
  {
   "cell_type": "code",
   "execution_count": 28,
   "id": "c6240157",
   "metadata": {
    "execution": {
     "iopub.execute_input": "2023-08-20T00:25:30.449375Z",
     "iopub.status.busy": "2023-08-20T00:25:30.448520Z",
     "iopub.status.idle": "2023-08-20T00:25:30.453906Z",
     "shell.execute_reply": "2023-08-20T00:25:30.452994Z"
    },
    "papermill": {
     "duration": 0.030457,
     "end_time": "2023-08-20T00:25:30.456109",
     "exception": false,
     "start_time": "2023-08-20T00:25:30.425652",
     "status": "completed"
    },
    "tags": []
   },
   "outputs": [],
   "source": [
    "data.reset_index(inplace=True)"
   ]
  },
  {
   "cell_type": "code",
   "execution_count": 29,
   "id": "8c25d063",
   "metadata": {
    "execution": {
     "iopub.execute_input": "2023-08-20T00:25:30.500826Z",
     "iopub.status.busy": "2023-08-20T00:25:30.500110Z",
     "iopub.status.idle": "2023-08-20T00:25:30.511359Z",
     "shell.execute_reply": "2023-08-20T00:25:30.510584Z"
    },
    "papermill": {
     "duration": 0.035903,
     "end_time": "2023-08-20T00:25:30.513535",
     "exception": false,
     "start_time": "2023-08-20T00:25:30.477632",
     "status": "completed"
    },
    "tags": []
   },
   "outputs": [
    {
     "data": {
      "text/html": [
       "<div>\n",
       "<style scoped>\n",
       "    .dataframe tbody tr th:only-of-type {\n",
       "        vertical-align: middle;\n",
       "    }\n",
       "\n",
       "    .dataframe tbody tr th {\n",
       "        vertical-align: top;\n",
       "    }\n",
       "\n",
       "    .dataframe thead th {\n",
       "        text-align: right;\n",
       "    }\n",
       "</style>\n",
       "<table border=\"1\" class=\"dataframe\">\n",
       "  <thead>\n",
       "    <tr style=\"text-align: right;\">\n",
       "      <th></th>\n",
       "      <th>index</th>\n",
       "      <th>review_description</th>\n",
       "      <th>rating</th>\n",
       "    </tr>\n",
       "  </thead>\n",
       "  <tbody>\n",
       "    <tr>\n",
       "      <th>0</th>\n",
       "      <td>0</td>\n",
       "      <td>Meh. Not the greatest experience on a Chromebo...</td>\n",
       "      <td>0</td>\n",
       "    </tr>\n",
       "    <tr>\n",
       "      <th>1</th>\n",
       "      <td>5</td>\n",
       "      <td>Currently, it's very challenging to use. It's ...</td>\n",
       "      <td>0</td>\n",
       "    </tr>\n",
       "    <tr>\n",
       "      <th>2</th>\n",
       "      <td>6</td>\n",
       "      <td>I still don’t want to see content from people ...</td>\n",
       "      <td>0</td>\n",
       "    </tr>\n",
       "    <tr>\n",
       "      <th>3</th>\n",
       "      <td>7</td>\n",
       "      <td>Could be great if all pages loaded when you cl...</td>\n",
       "      <td>0</td>\n",
       "    </tr>\n",
       "    <tr>\n",
       "      <th>4</th>\n",
       "      <td>9</td>\n",
       "      <td>Not bad! This is its first launch. There is st...</td>\n",
       "      <td>1</td>\n",
       "    </tr>\n",
       "    <tr>\n",
       "      <th>...</th>\n",
       "      <td>...</td>\n",
       "      <td>...</td>\n",
       "      <td>...</td>\n",
       "    </tr>\n",
       "    <tr>\n",
       "      <th>30319</th>\n",
       "      <td>32905</td>\n",
       "      <td>This killed my dog. Mark zuckerburg strangled ...</td>\n",
       "      <td>0</td>\n",
       "    </tr>\n",
       "    <tr>\n",
       "      <th>30320</th>\n",
       "      <td>32906</td>\n",
       "      <td>Add Search and hashtag like Twitter !</td>\n",
       "      <td>0</td>\n",
       "    </tr>\n",
       "    <tr>\n",
       "      <th>30321</th>\n",
       "      <td>32907</td>\n",
       "      <td>bad twister</td>\n",
       "      <td>0</td>\n",
       "    </tr>\n",
       "    <tr>\n",
       "      <th>30322</th>\n",
       "      <td>32908</td>\n",
       "      <td>Yet another trash from Meta.</td>\n",
       "      <td>0</td>\n",
       "    </tr>\n",
       "    <tr>\n",
       "      <th>30323</th>\n",
       "      <td>32909</td>\n",
       "      <td>Nothing special this app is just a copy of twi...</td>\n",
       "      <td>0</td>\n",
       "    </tr>\n",
       "  </tbody>\n",
       "</table>\n",
       "<p>30324 rows × 3 columns</p>\n",
       "</div>"
      ],
      "text/plain": [
       "       index                                 review_description  rating\n",
       "0          0  Meh. Not the greatest experience on a Chromebo...       0\n",
       "1          5  Currently, it's very challenging to use. It's ...       0\n",
       "2          6  I still don’t want to see content from people ...       0\n",
       "3          7  Could be great if all pages loaded when you cl...       0\n",
       "4          9  Not bad! This is its first launch. There is st...       1\n",
       "...      ...                                                ...     ...\n",
       "30319  32905  This killed my dog. Mark zuckerburg strangled ...       0\n",
       "30320  32906              Add Search and hashtag like Twitter !       0\n",
       "30321  32907                                        bad twister       0\n",
       "30322  32908                       Yet another trash from Meta.       0\n",
       "30323  32909  Nothing special this app is just a copy of twi...       0\n",
       "\n",
       "[30324 rows x 3 columns]"
      ]
     },
     "execution_count": 29,
     "metadata": {},
     "output_type": "execute_result"
    }
   ],
   "source": [
    "data"
   ]
  },
  {
   "cell_type": "code",
   "execution_count": 30,
   "id": "f74af97d",
   "metadata": {
    "execution": {
     "iopub.execute_input": "2023-08-20T00:25:30.560807Z",
     "iopub.status.busy": "2023-08-20T00:25:30.560038Z",
     "iopub.status.idle": "2023-08-20T00:25:30.567814Z",
     "shell.execute_reply": "2023-08-20T00:25:30.566595Z"
    },
    "papermill": {
     "duration": 0.036735,
     "end_time": "2023-08-20T00:25:30.571344",
     "exception": false,
     "start_time": "2023-08-20T00:25:30.534609",
     "status": "completed"
    },
    "tags": []
   },
   "outputs": [
    {
     "data": {
      "text/plain": [
       "index                  int64\n",
       "review_description    object\n",
       "rating                 int64\n",
       "dtype: object"
      ]
     },
     "execution_count": 30,
     "metadata": {},
     "output_type": "execute_result"
    }
   ],
   "source": [
    "data.dtypes"
   ]
  },
  {
   "cell_type": "code",
   "execution_count": 31,
   "id": "19b340ef",
   "metadata": {
    "execution": {
     "iopub.execute_input": "2023-08-20T00:25:30.621675Z",
     "iopub.status.busy": "2023-08-20T00:25:30.620777Z",
     "iopub.status.idle": "2023-08-20T00:25:30.638681Z",
     "shell.execute_reply": "2023-08-20T00:25:30.637593Z"
    },
    "papermill": {
     "duration": 0.043223,
     "end_time": "2023-08-20T00:25:30.640896",
     "exception": false,
     "start_time": "2023-08-20T00:25:30.597673",
     "status": "completed"
    },
    "tags": []
   },
   "outputs": [
    {
     "data": {
      "text/html": [
       "<div>\n",
       "<style scoped>\n",
       "    .dataframe tbody tr th:only-of-type {\n",
       "        vertical-align: middle;\n",
       "    }\n",
       "\n",
       "    .dataframe tbody tr th {\n",
       "        vertical-align: top;\n",
       "    }\n",
       "\n",
       "    .dataframe thead th {\n",
       "        text-align: right;\n",
       "    }\n",
       "</style>\n",
       "<table border=\"1\" class=\"dataframe\">\n",
       "  <thead>\n",
       "    <tr style=\"text-align: right;\">\n",
       "      <th></th>\n",
       "      <th>index</th>\n",
       "      <th>review</th>\n",
       "      <th>sentiment</th>\n",
       "    </tr>\n",
       "  </thead>\n",
       "  <tbody>\n",
       "    <tr>\n",
       "      <th>0</th>\n",
       "      <td>0</td>\n",
       "      <td>Meh. Not the greatest experience on a Chromebo...</td>\n",
       "      <td>0</td>\n",
       "    </tr>\n",
       "    <tr>\n",
       "      <th>1</th>\n",
       "      <td>5</td>\n",
       "      <td>Currently, it's very challenging to use. It's ...</td>\n",
       "      <td>0</td>\n",
       "    </tr>\n",
       "    <tr>\n",
       "      <th>2</th>\n",
       "      <td>6</td>\n",
       "      <td>I still don’t want to see content from people ...</td>\n",
       "      <td>0</td>\n",
       "    </tr>\n",
       "    <tr>\n",
       "      <th>3</th>\n",
       "      <td>7</td>\n",
       "      <td>Could be great if all pages loaded when you cl...</td>\n",
       "      <td>0</td>\n",
       "    </tr>\n",
       "    <tr>\n",
       "      <th>4</th>\n",
       "      <td>9</td>\n",
       "      <td>Not bad! This is its first launch. There is st...</td>\n",
       "      <td>1</td>\n",
       "    </tr>\n",
       "  </tbody>\n",
       "</table>\n",
       "</div>"
      ],
      "text/plain": [
       "   index                                             review  sentiment\n",
       "0      0  Meh. Not the greatest experience on a Chromebo...          0\n",
       "1      5  Currently, it's very challenging to use. It's ...          0\n",
       "2      6  I still don’t want to see content from people ...          0\n",
       "3      7  Could be great if all pages loaded when you cl...          0\n",
       "4      9  Not bad! This is its first launch. There is st...          1"
      ]
     },
     "execution_count": 31,
     "metadata": {},
     "output_type": "execute_result"
    }
   ],
   "source": [
    "data['review'] = data['review_description']\n",
    "data['sentiment'] = data['rating']\n",
    "data.drop(['review_description'],axis =1,inplace = True)\n",
    "data.drop(['rating'],axis =1,inplace = True)\n",
    "data.head()"
   ]
  },
  {
   "cell_type": "code",
   "execution_count": 32,
   "id": "40958d90",
   "metadata": {
    "execution": {
     "iopub.execute_input": "2023-08-20T00:25:30.689381Z",
     "iopub.status.busy": "2023-08-20T00:25:30.688910Z",
     "iopub.status.idle": "2023-08-20T00:25:30.720476Z",
     "shell.execute_reply": "2023-08-20T00:25:30.719204Z"
    },
    "papermill": {
     "duration": 0.057872,
     "end_time": "2023-08-20T00:25:30.723753",
     "exception": false,
     "start_time": "2023-08-20T00:25:30.665881",
     "status": "completed"
    },
    "tags": []
   },
   "outputs": [
    {
     "data": {
      "text/html": [
       "<div>\n",
       "<style scoped>\n",
       "    .dataframe tbody tr th:only-of-type {\n",
       "        vertical-align: middle;\n",
       "    }\n",
       "\n",
       "    .dataframe tbody tr th {\n",
       "        vertical-align: top;\n",
       "    }\n",
       "\n",
       "    .dataframe thead th {\n",
       "        text-align: right;\n",
       "    }\n",
       "</style>\n",
       "<table border=\"1\" class=\"dataframe\">\n",
       "  <thead>\n",
       "    <tr style=\"text-align: right;\">\n",
       "      <th></th>\n",
       "      <th>index</th>\n",
       "      <th>review</th>\n",
       "      <th>sentiment</th>\n",
       "    </tr>\n",
       "  </thead>\n",
       "  <tbody>\n",
       "    <tr>\n",
       "      <th>0</th>\n",
       "      <td>0</td>\n",
       "      <td>meh. not the greatest experience on a chromebo...</td>\n",
       "      <td>0</td>\n",
       "    </tr>\n",
       "    <tr>\n",
       "      <th>1</th>\n",
       "      <td>5</td>\n",
       "      <td>currently, it's very challenging to use. it's ...</td>\n",
       "      <td>0</td>\n",
       "    </tr>\n",
       "    <tr>\n",
       "      <th>2</th>\n",
       "      <td>6</td>\n",
       "      <td>i still don’t want to see content from people ...</td>\n",
       "      <td>0</td>\n",
       "    </tr>\n",
       "    <tr>\n",
       "      <th>3</th>\n",
       "      <td>7</td>\n",
       "      <td>could be great if all pages loaded when you cl...</td>\n",
       "      <td>0</td>\n",
       "    </tr>\n",
       "    <tr>\n",
       "      <th>4</th>\n",
       "      <td>9</td>\n",
       "      <td>not bad! this is its first launch. there is st...</td>\n",
       "      <td>1</td>\n",
       "    </tr>\n",
       "  </tbody>\n",
       "</table>\n",
       "</div>"
      ],
      "text/plain": [
       "   index                                             review  sentiment\n",
       "0      0  meh. not the greatest experience on a chromebo...          0\n",
       "1      5  currently, it's very challenging to use. it's ...          0\n",
       "2      6  i still don’t want to see content from people ...          0\n",
       "3      7  could be great if all pages loaded when you cl...          0\n",
       "4      9  not bad! this is its first launch. there is st...          1"
      ]
     },
     "execution_count": 32,
     "metadata": {},
     "output_type": "execute_result"
    }
   ],
   "source": [
    "#lowering\n",
    "data['review'] = data['review'].str.lower()\n",
    "data.head()"
   ]
  },
  {
   "cell_type": "code",
   "execution_count": 33,
   "id": "93c7279c",
   "metadata": {
    "execution": {
     "iopub.execute_input": "2023-08-20T00:25:30.775609Z",
     "iopub.status.busy": "2023-08-20T00:25:30.774855Z",
     "iopub.status.idle": "2023-08-20T00:25:30.779913Z",
     "shell.execute_reply": "2023-08-20T00:25:30.779228Z"
    },
    "papermill": {
     "duration": 0.030626,
     "end_time": "2023-08-20T00:25:30.781878",
     "exception": false,
     "start_time": "2023-08-20T00:25:30.751252",
     "status": "completed"
    },
    "tags": []
   },
   "outputs": [],
   "source": [
    "# cleaning punctuations from the sentence\n",
    "def cleanpunc(sentence):\n",
    "    cleaned = re.sub(r'[?|!|\\'|\"|#]',r'',sentence)\n",
    "    cleaned = re.sub(r'[.|,|)|(|\\|/]',r' ',cleaned)\n",
    "    return  cleaned"
   ]
  },
  {
   "cell_type": "code",
   "execution_count": 34,
   "id": "e5ba8762",
   "metadata": {
    "execution": {
     "iopub.execute_input": "2023-08-20T00:25:30.832533Z",
     "iopub.status.busy": "2023-08-20T00:25:30.832140Z",
     "iopub.status.idle": "2023-08-20T00:25:30.957518Z",
     "shell.execute_reply": "2023-08-20T00:25:30.956302Z"
    },
    "papermill": {
     "duration": 0.153233,
     "end_time": "2023-08-20T00:25:30.960239",
     "exception": false,
     "start_time": "2023-08-20T00:25:30.807006",
     "status": "completed"
    },
    "tags": []
   },
   "outputs": [],
   "source": [
    "data['review'] = data['review'].apply(lambda text: cleanpunc(text))"
   ]
  },
  {
   "cell_type": "code",
   "execution_count": 35,
   "id": "152f8e77",
   "metadata": {
    "execution": {
     "iopub.execute_input": "2023-08-20T00:25:31.008544Z",
     "iopub.status.busy": "2023-08-20T00:25:31.007466Z",
     "iopub.status.idle": "2023-08-20T00:25:31.015196Z",
     "shell.execute_reply": "2023-08-20T00:25:31.014133Z"
    },
    "papermill": {
     "duration": 0.033093,
     "end_time": "2023-08-20T00:25:31.017370",
     "exception": false,
     "start_time": "2023-08-20T00:25:30.984277",
     "status": "completed"
    },
    "tags": []
   },
   "outputs": [
    {
     "data": {
      "text/plain": [
       "'it needs a lot of work  it constantly crashes  to the point where i can barely use it  it isnt auto-following everyone i follow on insta  i cant search for terms  which lead me to a topic im interested in and the layout feels quite lacking  it needs some sort of visual flare: animations  pops of colour  page transitions  etc    just something to make it all feel pleasing and tie it into a great package '"
      ]
     },
     "execution_count": 35,
     "metadata": {},
     "output_type": "execute_result"
    }
   ],
   "source": [
    "data['review'][9]"
   ]
  },
  {
   "cell_type": "code",
   "execution_count": 36,
   "id": "71d299c4",
   "metadata": {
    "execution": {
     "iopub.execute_input": "2023-08-20T00:25:31.063531Z",
     "iopub.status.busy": "2023-08-20T00:25:31.063037Z",
     "iopub.status.idle": "2023-08-20T00:25:31.986099Z",
     "shell.execute_reply": "2023-08-20T00:25:31.985084Z"
    },
    "papermill": {
     "duration": 0.95073,
     "end_time": "2023-08-20T00:25:31.990119",
     "exception": false,
     "start_time": "2023-08-20T00:25:31.039389",
     "status": "completed"
    },
    "tags": []
   },
   "outputs": [
    {
     "data": {
      "text/plain": [
       "(-0.5, 399.5, 199.5, -0.5)"
      ]
     },
     "execution_count": 36,
     "metadata": {},
     "output_type": "execute_result"
    },
    {
     "data": {
      "image/png": "[encoded data removed]",
      "text/plain": [
       "<Figure size 1000x600 with 1 Axes>"
      ]
     },
     "metadata": {},
     "output_type": "display_data"
    }
   ],
   "source": [
    "from wordcloud import WordCloud\n",
    "text = ' '.join(data['review'])\n",
    "word= WordCloud(collocations =False, background_color = 'black', max_words = 40,\n",
    "               min_word_length = 4).generate(text)\n",
    "plt.figure(figsize=(10,6))\n",
    "plt.imshow(word)\n",
    "plt.axis('off')"
   ]
  },
  {
   "cell_type": "code",
   "execution_count": 37,
   "id": "d0a81e28",
   "metadata": {
    "execution": {
     "iopub.execute_input": "2023-08-20T00:25:32.043099Z",
     "iopub.status.busy": "2023-08-20T00:25:32.042728Z",
     "iopub.status.idle": "2023-08-20T00:25:32.928324Z",
     "shell.execute_reply": "2023-08-20T00:25:32.927252Z"
    },
    "papermill": {
     "duration": 0.915041,
     "end_time": "2023-08-20T00:25:32.930852",
     "exception": false,
     "start_time": "2023-08-20T00:25:32.015811",
     "status": "completed"
    },
    "tags": []
   },
   "outputs": [],
   "source": [
    "from nltk.corpus import stopwords\n",
    "from nltk.stem.porter import PorterStemmer\n",
    "port = PorterStemmer()"
   ]
  },
  {
   "cell_type": "code",
   "execution_count": 38,
   "id": "fab0039c",
   "metadata": {
    "execution": {
     "iopub.execute_input": "2023-08-20T00:25:32.984703Z",
     "iopub.status.busy": "2023-08-20T00:25:32.983568Z",
     "iopub.status.idle": "2023-08-20T00:26:19.763699Z",
     "shell.execute_reply": "2023-08-20T00:26:19.762482Z"
    },
    "papermill": {
     "duration": 46.809138,
     "end_time": "2023-08-20T00:26:19.766255",
     "exception": false,
     "start_time": "2023-08-20T00:25:32.957117",
     "status": "completed"
    },
    "tags": []
   },
   "outputs": [],
   "source": [
    "corpus = []\n",
    "for i in range(0,len(data)):\n",
    "    rev = re.sub('[^a-zA-Z0-9]',' ',str(data['review'][i]))\n",
    "    rev = rev.split()\n",
    "    rev = [port.stem(word) for word in rev if not word in stopwords.words('english')]\n",
    "    rev = ' '.join(rev)\n",
    "    corpus.append(rev)"
   ]
  },
  {
   "cell_type": "code",
   "execution_count": 39,
   "id": "b0fa8c59",
   "metadata": {
    "execution": {
     "iopub.execute_input": "2023-08-20T00:26:19.818668Z",
     "iopub.status.busy": "2023-08-20T00:26:19.818319Z",
     "iopub.status.idle": "2023-08-20T00:26:20.313563Z",
     "shell.execute_reply": "2023-08-20T00:26:20.312386Z"
    },
    "papermill": {
     "duration": 0.524315,
     "end_time": "2023-08-20T00:26:20.316078",
     "exception": false,
     "start_time": "2023-08-20T00:26:19.791763",
     "status": "completed"
    },
    "tags": []
   },
   "outputs": [],
   "source": [
    "from sklearn.feature_extraction.text import CountVectorizer\n",
    "cv = CountVectorizer(max_features=2500, binary=True)\n",
    "X= cv.fit_transform(corpus).toarray()"
   ]
  },
  {
   "cell_type": "code",
   "execution_count": 40,
   "id": "ec1e87a1",
   "metadata": {
    "execution": {
     "iopub.execute_input": "2023-08-20T00:26:20.369821Z",
     "iopub.status.busy": "2023-08-20T00:26:20.369419Z",
     "iopub.status.idle": "2023-08-20T00:26:20.376421Z",
     "shell.execute_reply": "2023-08-20T00:26:20.375377Z"
    },
    "papermill": {
     "duration": 0.035873,
     "end_time": "2023-08-20T00:26:20.378430",
     "exception": false,
     "start_time": "2023-08-20T00:26:20.342557",
     "status": "completed"
    },
    "tags": []
   },
   "outputs": [
    {
     "data": {
      "text/plain": [
       "(30324, 2500)"
      ]
     },
     "execution_count": 40,
     "metadata": {},
     "output_type": "execute_result"
    }
   ],
   "source": [
    "X.shape"
   ]
  },
  {
   "cell_type": "code",
   "execution_count": 41,
   "id": "c39683b5",
   "metadata": {
    "execution": {
     "iopub.execute_input": "2023-08-20T00:26:20.431048Z",
     "iopub.status.busy": "2023-08-20T00:26:20.430397Z",
     "iopub.status.idle": "2023-08-20T00:26:20.435182Z",
     "shell.execute_reply": "2023-08-20T00:26:20.434146Z"
    },
    "papermill": {
     "duration": 0.033322,
     "end_time": "2023-08-20T00:26:20.437132",
     "exception": false,
     "start_time": "2023-08-20T00:26:20.403810",
     "status": "completed"
    },
    "tags": []
   },
   "outputs": [],
   "source": [
    "y= data['sentiment']"
   ]
  },
  {
   "cell_type": "code",
   "execution_count": 42,
   "id": "eaa199bd",
   "metadata": {
    "execution": {
     "iopub.execute_input": "2023-08-20T00:26:20.490130Z",
     "iopub.status.busy": "2023-08-20T00:26:20.489140Z",
     "iopub.status.idle": "2023-08-20T00:26:20.851755Z",
     "shell.execute_reply": "2023-08-20T00:26:20.850626Z"
    },
    "papermill": {
     "duration": 0.392005,
     "end_time": "2023-08-20T00:26:20.854364",
     "exception": false,
     "start_time": "2023-08-20T00:26:20.462359",
     "status": "completed"
    },
    "tags": []
   },
   "outputs": [],
   "source": [
    "from sklearn.model_selection import train_test_split\n",
    "X_train, X_test, y_train, y_test = train_test_split(X, y, test_size=0.3, random_state=101)"
   ]
  },
  {
   "cell_type": "code",
   "execution_count": 43,
   "id": "e999823e",
   "metadata": {
    "execution": {
     "iopub.execute_input": "2023-08-20T00:26:20.907446Z",
     "iopub.status.busy": "2023-08-20T00:26:20.907016Z",
     "iopub.status.idle": "2023-08-20T00:26:20.914534Z",
     "shell.execute_reply": "2023-08-20T00:26:20.913608Z"
    },
    "papermill": {
     "duration": 0.036697,
     "end_time": "2023-08-20T00:26:20.916613",
     "exception": false,
     "start_time": "2023-08-20T00:26:20.879916",
     "status": "completed"
    },
    "tags": []
   },
   "outputs": [
    {
     "data": {
      "text/plain": [
       "(array([[0, 0, 0, ..., 0, 0, 0],\n",
       "        [0, 0, 0, ..., 0, 0, 0],\n",
       "        [0, 0, 0, ..., 0, 0, 0],\n",
       "        ...,\n",
       "        [0, 0, 0, ..., 0, 0, 0],\n",
       "        [0, 0, 0, ..., 0, 0, 0],\n",
       "        [0, 0, 0, ..., 0, 0, 0]]),\n",
       " 7907     0\n",
       " 11740    0\n",
       " 7589     0\n",
       " 20660    1\n",
       " 9305     1\n",
       "         ..\n",
       " 5695     1\n",
       " 8006     1\n",
       " 17745    1\n",
       " 17931    1\n",
       " 13151    0\n",
       " Name: sentiment, Length: 21226, dtype: int64)"
      ]
     },
     "execution_count": 43,
     "metadata": {},
     "output_type": "execute_result"
    }
   ],
   "source": [
    "X_train, y_train"
   ]
  },
  {
   "cell_type": "code",
   "execution_count": 44,
   "id": "dfedfa77",
   "metadata": {
    "execution": {
     "iopub.execute_input": "2023-08-20T00:26:20.971010Z",
     "iopub.status.busy": "2023-08-20T00:26:20.969947Z",
     "iopub.status.idle": "2023-08-20T00:26:21.540261Z",
     "shell.execute_reply": "2023-08-20T00:26:21.539307Z"
    },
    "papermill": {
     "duration": 0.5999,
     "end_time": "2023-08-20T00:26:21.542746",
     "exception": false,
     "start_time": "2023-08-20T00:26:20.942846",
     "status": "completed"
    },
    "tags": []
   },
   "outputs": [],
   "source": [
    "#\n",
    "from sklearn.naive_bayes import MultinomialNB\n",
    "model = MultinomialNB().fit(X_train, y_train)"
   ]
  },
  {
   "cell_type": "code",
   "execution_count": 45,
   "id": "a0cc5d3b",
   "metadata": {
    "execution": {
     "iopub.execute_input": "2023-08-20T00:26:21.595893Z",
     "iopub.status.busy": "2023-08-20T00:26:21.595507Z",
     "iopub.status.idle": "2023-08-20T00:26:21.700646Z",
     "shell.execute_reply": "2023-08-20T00:26:21.699404Z"
    },
    "papermill": {
     "duration": 0.135619,
     "end_time": "2023-08-20T00:26:21.704067",
     "exception": false,
     "start_time": "2023-08-20T00:26:21.568448",
     "status": "completed"
    },
    "tags": []
   },
   "outputs": [],
   "source": [
    "pred_naive = model.predict(X_test)"
   ]
  },
  {
   "cell_type": "code",
   "execution_count": 46,
   "id": "4efa9c8f",
   "metadata": {
    "execution": {
     "iopub.execute_input": "2023-08-20T00:26:21.793097Z",
     "iopub.status.busy": "2023-08-20T00:26:21.792566Z",
     "iopub.status.idle": "2023-08-20T00:26:21.802035Z",
     "shell.execute_reply": "2023-08-20T00:26:21.800990Z"
    },
    "papermill": {
     "duration": 0.058034,
     "end_time": "2023-08-20T00:26:21.806002",
     "exception": false,
     "start_time": "2023-08-20T00:26:21.747968",
     "status": "completed"
    },
    "tags": []
   },
   "outputs": [
    {
     "name": "stdout",
     "output_type": "stream",
     "text": [
      "0.8627170806770719\n"
     ]
    }
   ],
   "source": [
    "from sklearn.metrics import accuracy_score, classification_report\n",
    "score = accuracy_score(y_test,pred_naive)\n",
    "print(score)"
   ]
  },
  {
   "cell_type": "code",
   "execution_count": 47,
   "id": "184637f6",
   "metadata": {
    "execution": {
     "iopub.execute_input": "2023-08-20T00:26:21.862147Z",
     "iopub.status.busy": "2023-08-20T00:26:21.861802Z",
     "iopub.status.idle": "2023-08-20T00:26:21.888794Z",
     "shell.execute_reply": "2023-08-20T00:26:21.887505Z"
    },
    "papermill": {
     "duration": 0.05579,
     "end_time": "2023-08-20T00:26:21.890881",
     "exception": false,
     "start_time": "2023-08-20T00:26:21.835091",
     "status": "completed"
    },
    "tags": []
   },
   "outputs": [
    {
     "name": "stdout",
     "output_type": "stream",
     "text": [
      "              precision    recall  f1-score   support\n",
      "\n",
      "           0       0.86      0.76      0.81      3431\n",
      "           1       0.87      0.92      0.89      5667\n",
      "\n",
      "    accuracy                           0.86      9098\n",
      "   macro avg       0.86      0.84      0.85      9098\n",
      "weighted avg       0.86      0.86      0.86      9098\n",
      "\n"
     ]
    }
   ],
   "source": [
    "print(classification_report(y_test, pred_naive))"
   ]
  },
  {
   "cell_type": "code",
   "execution_count": 48,
   "id": "9a28bda1",
   "metadata": {
    "execution": {
     "iopub.execute_input": "2023-08-20T00:26:21.943714Z",
     "iopub.status.busy": "2023-08-20T00:26:21.943315Z",
     "iopub.status.idle": "2023-08-20T00:26:22.654540Z",
     "shell.execute_reply": "2023-08-20T00:26:22.653432Z"
    },
    "papermill": {
     "duration": 0.740651,
     "end_time": "2023-08-20T00:26:22.657024",
     "exception": false,
     "start_time": "2023-08-20T00:26:21.916373",
     "status": "completed"
    },
    "tags": []
   },
   "outputs": [],
   "source": [
    "#\n",
    "from sklearn.feature_extraction.text import TfidfVectorizer\n",
    "tv = TfidfVectorizer(max_features=2500)\n",
    "X = tv.fit_transform(corpus).toarray()"
   ]
  },
  {
   "cell_type": "code",
   "execution_count": 49,
   "id": "804c25f2",
   "metadata": {
    "execution": {
     "iopub.execute_input": "2023-08-20T00:26:22.711910Z",
     "iopub.status.busy": "2023-08-20T00:26:22.711529Z",
     "iopub.status.idle": "2023-08-20T00:26:23.039785Z",
     "shell.execute_reply": "2023-08-20T00:26:23.038354Z"
    },
    "papermill": {
     "duration": 0.358757,
     "end_time": "2023-08-20T00:26:23.042891",
     "exception": false,
     "start_time": "2023-08-20T00:26:22.684134",
     "status": "completed"
    },
    "tags": []
   },
   "outputs": [],
   "source": [
    " X_train, X_test, y_train, y_test = train_test_split(X, y, test_size=0.3, random_state=101)"
   ]
  },
  {
   "cell_type": "code",
   "execution_count": 50,
   "id": "acad6460",
   "metadata": {
    "execution": {
     "iopub.execute_input": "2023-08-20T00:26:23.096535Z",
     "iopub.status.busy": "2023-08-20T00:26:23.096099Z",
     "iopub.status.idle": "2023-08-20T00:26:23.236427Z",
     "shell.execute_reply": "2023-08-20T00:26:23.235099Z"
    },
    "papermill": {
     "duration": 0.170686,
     "end_time": "2023-08-20T00:26:23.239730",
     "exception": false,
     "start_time": "2023-08-20T00:26:23.069044",
     "status": "completed"
    },
    "tags": []
   },
   "outputs": [],
   "source": [
    "model =MultinomialNB().fit(X_train,y_train)"
   ]
  },
  {
   "cell_type": "code",
   "execution_count": 51,
   "id": "af127b45",
   "metadata": {
    "execution": {
     "iopub.execute_input": "2023-08-20T00:26:23.330346Z",
     "iopub.status.busy": "2023-08-20T00:26:23.329655Z",
     "iopub.status.idle": "2023-08-20T00:26:23.380130Z",
     "shell.execute_reply": "2023-08-20T00:26:23.378774Z"
    },
    "papermill": {
     "duration": 0.100094,
     "end_time": "2023-08-20T00:26:23.383818",
     "exception": false,
     "start_time": "2023-08-20T00:26:23.283724",
     "status": "completed"
    },
    "tags": []
   },
   "outputs": [],
   "source": [
    "pred_naive = model.predict(X_test)"
   ]
  },
  {
   "cell_type": "code",
   "execution_count": 52,
   "id": "28ca819b",
   "metadata": {
    "execution": {
     "iopub.execute_input": "2023-08-20T00:26:23.471886Z",
     "iopub.status.busy": "2023-08-20T00:26:23.471238Z",
     "iopub.status.idle": "2023-08-20T00:26:23.480479Z",
     "shell.execute_reply": "2023-08-20T00:26:23.479282Z"
    },
    "papermill": {
     "duration": 0.058445,
     "end_time": "2023-08-20T00:26:23.485763",
     "exception": false,
     "start_time": "2023-08-20T00:26:23.427318",
     "status": "completed"
    },
    "tags": []
   },
   "outputs": [
    {
     "name": "stdout",
     "output_type": "stream",
     "text": [
      "0.8637063090789184\n"
     ]
    }
   ],
   "source": [
    "score = accuracy_score(y_test, pred_naive)\n",
    "print(score)"
   ]
  },
  {
   "cell_type": "code",
   "execution_count": 53,
   "id": "2e3364ce",
   "metadata": {
    "execution": {
     "iopub.execute_input": "2023-08-20T00:26:23.543784Z",
     "iopub.status.busy": "2023-08-20T00:26:23.543361Z",
     "iopub.status.idle": "2023-08-20T00:26:23.569933Z",
     "shell.execute_reply": "2023-08-20T00:26:23.568788Z"
    },
    "papermill": {
     "duration": 0.055519,
     "end_time": "2023-08-20T00:26:23.572183",
     "exception": false,
     "start_time": "2023-08-20T00:26:23.516664",
     "status": "completed"
    },
    "tags": []
   },
   "outputs": [
    {
     "name": "stdout",
     "output_type": "stream",
     "text": [
      "              precision    recall  f1-score   support\n",
      "\n",
      "           0       0.85      0.77      0.81      3431\n",
      "           1       0.87      0.92      0.89      5667\n",
      "\n",
      "    accuracy                           0.86      9098\n",
      "   macro avg       0.86      0.85      0.85      9098\n",
      "weighted avg       0.86      0.86      0.86      9098\n",
      "\n"
     ]
    }
   ],
   "source": [
    "print(classification_report(y_test, pred_naive))"
   ]
  },
  {
   "cell_type": "code",
   "execution_count": 54,
   "id": "e70918b2",
   "metadata": {
    "execution": {
     "iopub.execute_input": "2023-08-20T00:26:23.626595Z",
     "iopub.status.busy": "2023-08-20T00:26:23.625561Z",
     "iopub.status.idle": "2023-08-20T00:26:28.602918Z",
     "shell.execute_reply": "2023-08-20T00:26:28.601802Z"
    },
    "papermill": {
     "duration": 5.007716,
     "end_time": "2023-08-20T00:26:28.605842",
     "exception": false,
     "start_time": "2023-08-20T00:26:23.598126",
     "status": "completed"
    },
    "tags": []
   },
   "outputs": [
    {
     "data": {
      "text/html": [
       "<style>#sk-container-id-1 {color: black;background-color: white;}#sk-container-id-1 pre{padding: 0;}#sk-container-id-1 div.sk-toggleable {background-color: white;}#sk-container-id-1 label.sk-toggleable__label {cursor: pointer;display: block;width: 100%;margin-bottom: 0;padding: 0.3em;box-sizing: border-box;text-align: center;}#sk-container-id-1 label.sk-toggleable__label-arrow:before {content: \"▸\";float: left;margin-right: 0.25em;color: #696969;}#sk-container-id-1 label.sk-toggleable__label-arrow:hover:before {color: black;}#sk-container-id-1 div.sk-estimator:hover label.sk-toggleable__label-arrow:before {color: black;}#sk-container-id-1 div.sk-toggleable__content {max-height: 0;max-width: 0;overflow: hidden;text-align: left;background-color: #f0f8ff;}#sk-container-id-1 div.sk-toggleable__content pre {margin: 0.2em;color: black;border-radius: 0.25em;background-color: #f0f8ff;}#sk-container-id-1 input.sk-toggleable__control:checked~div.sk-toggleable__content {max-height: 200px;max-width: 100%;overflow: auto;}#sk-container-id-1 input.sk-toggleable__control:checked~label.sk-toggleable__label-arrow:before {content: \"▾\";}#sk-container-id-1 div.sk-estimator input.sk-toggleable__control:checked~label.sk-toggleable__label {background-color: #d4ebff;}#sk-container-id-1 div.sk-label input.sk-toggleable__control:checked~label.sk-toggleable__label {background-color: #d4ebff;}#sk-container-id-1 input.sk-hidden--visually {border: 0;clip: rect(1px 1px 1px 1px);clip: rect(1px, 1px, 1px, 1px);height: 1px;margin: -1px;overflow: hidden;padding: 0;position: absolute;width: 1px;}#sk-container-id-1 div.sk-estimator {font-family: monospace;background-color: #f0f8ff;border: 1px dotted black;border-radius: 0.25em;box-sizing: border-box;margin-bottom: 0.5em;}#sk-container-id-1 div.sk-estimator:hover {background-color: #d4ebff;}#sk-container-id-1 div.sk-parallel-item::after {content: \"\";width: 100%;border-bottom: 1px solid gray;flex-grow: 1;}#sk-container-id-1 div.sk-label:hover label.sk-toggleable__label {background-color: #d4ebff;}#sk-container-id-1 div.sk-serial::before {content: \"\";position: absolute;border-left: 1px solid gray;box-sizing: border-box;top: 0;bottom: 0;left: 50%;z-index: 0;}#sk-container-id-1 div.sk-serial {display: flex;flex-direction: column;align-items: center;background-color: white;padding-right: 0.2em;padding-left: 0.2em;position: relative;}#sk-container-id-1 div.sk-item {position: relative;z-index: 1;}#sk-container-id-1 div.sk-parallel {display: flex;align-items: stretch;justify-content: center;background-color: white;position: relative;}#sk-container-id-1 div.sk-item::before, #sk-container-id-1 div.sk-parallel-item::before {content: \"\";position: absolute;border-left: 1px solid gray;box-sizing: border-box;top: 0;bottom: 0;left: 50%;z-index: -1;}#sk-container-id-1 div.sk-parallel-item {display: flex;flex-direction: column;z-index: 1;position: relative;background-color: white;}#sk-container-id-1 div.sk-parallel-item:first-child::after {align-self: flex-end;width: 50%;}#sk-container-id-1 div.sk-parallel-item:last-child::after {align-self: flex-start;width: 50%;}#sk-container-id-1 div.sk-parallel-item:only-child::after {width: 0;}#sk-container-id-1 div.sk-dashed-wrapped {border: 1px dashed gray;margin: 0 0.4em 0.5em 0.4em;box-sizing: border-box;padding-bottom: 0.4em;background-color: white;}#sk-container-id-1 div.sk-label label {font-family: monospace;font-weight: bold;display: inline-block;line-height: 1.2em;}#sk-container-id-1 div.sk-label-container {text-align: center;}#sk-container-id-1 div.sk-container {/* jupyter's `normalize.less` sets `[hidden] { display: none; }` but bootstrap.min.css set `[hidden] { display: none !important; }` so we also need the `!important` here to be able to override the default hidden behavior on the sphinx rendered scikit-learn.org. See: https://github.com/scikit-learn/scikit-learn/issues/21755 */display: inline-block !important;position: relative;}#sk-container-id-1 div.sk-text-repr-fallback {display: none;}</style><div id=\"sk-container-id-1\" class=\"sk-top-container\"><div class=\"sk-text-repr-fallback\"><pre>LogisticRegression(max_iter=1000)</pre><b>In a Jupyter environment, please rerun this cell to show the HTML representation or trust the notebook. <br />On GitHub, the HTML representation is unable to render, please try loading this page with nbviewer.org.</b></div><div class=\"sk-container\" hidden><div class=\"sk-item\"><div class=\"sk-estimator sk-toggleable\"><input class=\"sk-toggleable__control sk-hidden--visually\" id=\"sk-estimator-id-1\" type=\"checkbox\" checked><label for=\"sk-estimator-id-1\" class=\"sk-toggleable__label sk-toggleable__label-arrow\">LogisticRegression</label><div class=\"sk-toggleable__content\"><pre>LogisticRegression(max_iter=1000)</pre></div></div></div></div></div>"
      ],
      "text/plain": [
       "LogisticRegression(max_iter=1000)"
      ]
     },
     "execution_count": 54,
     "metadata": {},
     "output_type": "execute_result"
    }
   ],
   "source": [
    "from sklearn.linear_model import LogisticRegression\n",
    "model2 = LogisticRegression(max_iter=1000)\n",
    "X = tv.fit_transform(corpus).toarray()\n",
    "model2.fit(X_train, y_train)"
   ]
  },
  {
   "cell_type": "code",
   "execution_count": 55,
   "id": "a801f872",
   "metadata": {
    "execution": {
     "iopub.execute_input": "2023-08-20T00:26:28.696447Z",
     "iopub.status.busy": "2023-08-20T00:26:28.695909Z",
     "iopub.status.idle": "2023-08-20T00:26:28.728656Z",
     "shell.execute_reply": "2023-08-20T00:26:28.727412Z"
    },
    "papermill": {
     "duration": 0.081607,
     "end_time": "2023-08-20T00:26:28.731871",
     "exception": false,
     "start_time": "2023-08-20T00:26:28.650264",
     "status": "completed"
    },
    "tags": []
   },
   "outputs": [],
   "source": [
    "pred_log = model2.predict(X_test)"
   ]
  },
  {
   "cell_type": "code",
   "execution_count": 56,
   "id": "7b9eef32",
   "metadata": {
    "execution": {
     "iopub.execute_input": "2023-08-20T00:26:28.822379Z",
     "iopub.status.busy": "2023-08-20T00:26:28.821835Z",
     "iopub.status.idle": "2023-08-20T00:26:28.830949Z",
     "shell.execute_reply": "2023-08-20T00:26:28.829829Z"
    },
    "papermill": {
     "duration": 0.058768,
     "end_time": "2023-08-20T00:26:28.834813",
     "exception": false,
     "start_time": "2023-08-20T00:26:28.776045",
     "status": "completed"
    },
    "tags": []
   },
   "outputs": [
    {
     "name": "stdout",
     "output_type": "stream",
     "text": [
      "0.8672235656188173\n"
     ]
    }
   ],
   "source": [
    "score = accuracy_score(y_test, pred_log)\n",
    "print(score)"
   ]
  },
  {
   "cell_type": "code",
   "execution_count": 57,
   "id": "a6a81b40",
   "metadata": {
    "execution": {
     "iopub.execute_input": "2023-08-20T00:26:28.894036Z",
     "iopub.status.busy": "2023-08-20T00:26:28.893680Z",
     "iopub.status.idle": "2023-08-20T00:26:28.920958Z",
     "shell.execute_reply": "2023-08-20T00:26:28.919802Z"
    },
    "papermill": {
     "duration": 0.057187,
     "end_time": "2023-08-20T00:26:28.923250",
     "exception": false,
     "start_time": "2023-08-20T00:26:28.866063",
     "status": "completed"
    },
    "tags": []
   },
   "outputs": [
    {
     "name": "stdout",
     "output_type": "stream",
     "text": [
      "              precision    recall  f1-score   support\n",
      "\n",
      "           0       0.87      0.76      0.81      3431\n",
      "           1       0.87      0.93      0.90      5667\n",
      "\n",
      "    accuracy                           0.87      9098\n",
      "   macro avg       0.87      0.85      0.85      9098\n",
      "weighted avg       0.87      0.87      0.87      9098\n",
      "\n"
     ]
    }
   ],
   "source": [
    "print(classification_report(y_test, pred_log))"
   ]
  },
  {
   "cell_type": "code",
   "execution_count": 58,
   "id": "a51f0b9f",
   "metadata": {
    "execution": {
     "iopub.execute_input": "2023-08-20T00:26:28.978355Z",
     "iopub.status.busy": "2023-08-20T00:26:28.977442Z",
     "iopub.status.idle": "2023-08-20T00:26:29.771284Z",
     "shell.execute_reply": "2023-08-20T00:26:29.770418Z"
    },
    "papermill": {
     "duration": 0.823989,
     "end_time": "2023-08-20T00:26:29.773560",
     "exception": false,
     "start_time": "2023-08-20T00:26:28.949571",
     "status": "completed"
    },
    "tags": []
   },
   "outputs": [],
   "source": [
    "X= cv.fit_transform(corpus).toarray()\n",
    "X_train, X_test, y_train, y_test = train_test_split(X, y, test_size=0.3, random_state=101)"
   ]
  },
  {
   "cell_type": "code",
   "execution_count": 59,
   "id": "e0d6bb78",
   "metadata": {
    "execution": {
     "iopub.execute_input": "2023-08-20T00:26:29.828356Z",
     "iopub.status.busy": "2023-08-20T00:26:29.827473Z",
     "iopub.status.idle": "2023-08-20T00:26:29.902956Z",
     "shell.execute_reply": "2023-08-20T00:26:29.901634Z"
    },
    "papermill": {
     "duration": 0.106358,
     "end_time": "2023-08-20T00:26:29.906240",
     "exception": false,
     "start_time": "2023-08-20T00:26:29.799882",
     "status": "completed"
    },
    "tags": []
   },
   "outputs": [],
   "source": [
    "pred_log1 = model2.predict (X_test)"
   ]
  },
  {
   "cell_type": "code",
   "execution_count": 60,
   "id": "e9791d7d",
   "metadata": {
    "execution": {
     "iopub.execute_input": "2023-08-20T00:26:29.996740Z",
     "iopub.status.busy": "2023-08-20T00:26:29.996127Z",
     "iopub.status.idle": "2023-08-20T00:26:30.005877Z",
     "shell.execute_reply": "2023-08-20T00:26:30.004785Z"
    },
    "papermill": {
     "duration": 0.058875,
     "end_time": "2023-08-20T00:26:30.008726",
     "exception": false,
     "start_time": "2023-08-20T00:26:29.949851",
     "status": "completed"
    },
    "tags": []
   },
   "outputs": [
    {
     "name": "stdout",
     "output_type": "stream",
     "text": [
      "0.6724554847219169\n"
     ]
    }
   ],
   "source": [
    "score =accuracy_score(y_test,pred_log1)\n",
    "print(score)"
   ]
  },
  {
   "cell_type": "code",
   "execution_count": 61,
   "id": "70cecfaa",
   "metadata": {
    "execution": {
     "iopub.execute_input": "2023-08-20T00:26:30.068879Z",
     "iopub.status.busy": "2023-08-20T00:26:30.067516Z",
     "iopub.status.idle": "2023-08-20T00:26:30.347259Z",
     "shell.execute_reply": "2023-08-20T00:26:30.346129Z"
    },
    "papermill": {
     "duration": 0.309987,
     "end_time": "2023-08-20T00:26:30.349782",
     "exception": false,
     "start_time": "2023-08-20T00:26:30.039795",
     "status": "completed"
    },
    "tags": []
   },
   "outputs": [],
   "source": [
    "from sklearn.ensemble import RandomForestClassifier\n",
    "model3 = RandomForestClassifier()"
   ]
  },
  {
   "cell_type": "code",
   "execution_count": 62,
   "id": "f3ed3138",
   "metadata": {
    "execution": {
     "iopub.execute_input": "2023-08-20T00:26:30.404650Z",
     "iopub.status.busy": "2023-08-20T00:26:30.404239Z",
     "iopub.status.idle": "2023-08-20T00:26:31.176829Z",
     "shell.execute_reply": "2023-08-20T00:26:31.175873Z"
    },
    "papermill": {
     "duration": 0.802767,
     "end_time": "2023-08-20T00:26:31.179310",
     "exception": false,
     "start_time": "2023-08-20T00:26:30.376543",
     "status": "completed"
    },
    "tags": []
   },
   "outputs": [],
   "source": [
    "X= cv.fit_transform(corpus).toarray()\n",
    "X_train, X_test, y_train, y_test = train_test_split(X, y, test_size=0.3, random_state=101)"
   ]
  },
  {
   "cell_type": "code",
   "execution_count": 63,
   "id": "0383977c",
   "metadata": {
    "execution": {
     "iopub.execute_input": "2023-08-20T00:26:31.234961Z",
     "iopub.status.busy": "2023-08-20T00:26:31.234576Z",
     "iopub.status.idle": "2023-08-20T00:27:48.917536Z",
     "shell.execute_reply": "2023-08-20T00:27:48.916762Z"
    },
    "papermill": {
     "duration": 77.739244,
     "end_time": "2023-08-20T00:27:48.945439",
     "exception": false,
     "start_time": "2023-08-20T00:26:31.206195",
     "status": "completed"
    },
    "tags": []
   },
   "outputs": [
    {
     "data": {
      "text/html": [
       "<style>#sk-container-id-2 {color: black;background-color: white;}#sk-container-id-2 pre{padding: 0;}#sk-container-id-2 div.sk-toggleable {background-color: white;}#sk-container-id-2 label.sk-toggleable__label {cursor: pointer;display: block;width: 100%;margin-bottom: 0;padding: 0.3em;box-sizing: border-box;text-align: center;}#sk-container-id-2 label.sk-toggleable__label-arrow:before {content: \"▸\";float: left;margin-right: 0.25em;color: #696969;}#sk-container-id-2 label.sk-toggleable__label-arrow:hover:before {color: black;}#sk-container-id-2 div.sk-estimator:hover label.sk-toggleable__label-arrow:before {color: black;}#sk-container-id-2 div.sk-toggleable__content {max-height: 0;max-width: 0;overflow: hidden;text-align: left;background-color: #f0f8ff;}#sk-container-id-2 div.sk-toggleable__content pre {margin: 0.2em;color: black;border-radius: 0.25em;background-color: #f0f8ff;}#sk-container-id-2 input.sk-toggleable__control:checked~div.sk-toggleable__content {max-height: 200px;max-width: 100%;overflow: auto;}#sk-container-id-2 input.sk-toggleable__control:checked~label.sk-toggleable__label-arrow:before {content: \"▾\";}#sk-container-id-2 div.sk-estimator input.sk-toggleable__control:checked~label.sk-toggleable__label {background-color: #d4ebff;}#sk-container-id-2 div.sk-label input.sk-toggleable__control:checked~label.sk-toggleable__label {background-color: #d4ebff;}#sk-container-id-2 input.sk-hidden--visually {border: 0;clip: rect(1px 1px 1px 1px);clip: rect(1px, 1px, 1px, 1px);height: 1px;margin: -1px;overflow: hidden;padding: 0;position: absolute;width: 1px;}#sk-container-id-2 div.sk-estimator {font-family: monospace;background-color: #f0f8ff;border: 1px dotted black;border-radius: 0.25em;box-sizing: border-box;margin-bottom: 0.5em;}#sk-container-id-2 div.sk-estimator:hover {background-color: #d4ebff;}#sk-container-id-2 div.sk-parallel-item::after {content: \"\";width: 100%;border-bottom: 1px solid gray;flex-grow: 1;}#sk-container-id-2 div.sk-label:hover label.sk-toggleable__label {background-color: #d4ebff;}#sk-container-id-2 div.sk-serial::before {content: \"\";position: absolute;border-left: 1px solid gray;box-sizing: border-box;top: 0;bottom: 0;left: 50%;z-index: 0;}#sk-container-id-2 div.sk-serial {display: flex;flex-direction: column;align-items: center;background-color: white;padding-right: 0.2em;padding-left: 0.2em;position: relative;}#sk-container-id-2 div.sk-item {position: relative;z-index: 1;}#sk-container-id-2 div.sk-parallel {display: flex;align-items: stretch;justify-content: center;background-color: white;position: relative;}#sk-container-id-2 div.sk-item::before, #sk-container-id-2 div.sk-parallel-item::before {content: \"\";position: absolute;border-left: 1px solid gray;box-sizing: border-box;top: 0;bottom: 0;left: 50%;z-index: -1;}#sk-container-id-2 div.sk-parallel-item {display: flex;flex-direction: column;z-index: 1;position: relative;background-color: white;}#sk-container-id-2 div.sk-parallel-item:first-child::after {align-self: flex-end;width: 50%;}#sk-container-id-2 div.sk-parallel-item:last-child::after {align-self: flex-start;width: 50%;}#sk-container-id-2 div.sk-parallel-item:only-child::after {width: 0;}#sk-container-id-2 div.sk-dashed-wrapped {border: 1px dashed gray;margin: 0 0.4em 0.5em 0.4em;box-sizing: border-box;padding-bottom: 0.4em;background-color: white;}#sk-container-id-2 div.sk-label label {font-family: monospace;font-weight: bold;display: inline-block;line-height: 1.2em;}#sk-container-id-2 div.sk-label-container {text-align: center;}#sk-container-id-2 div.sk-container {/* jupyter's `normalize.less` sets `[hidden] { display: none; }` but bootstrap.min.css set `[hidden] { display: none !important; }` so we also need the `!important` here to be able to override the default hidden behavior on the sphinx rendered scikit-learn.org. See: https://github.com/scikit-learn/scikit-learn/issues/21755 */display: inline-block !important;position: relative;}#sk-container-id-2 div.sk-text-repr-fallback {display: none;}</style><div id=\"sk-container-id-2\" class=\"sk-top-container\"><div class=\"sk-text-repr-fallback\"><pre>RandomForestClassifier()</pre><b>In a Jupyter environment, please rerun this cell to show the HTML representation or trust the notebook. <br />On GitHub, the HTML representation is unable to render, please try loading this page with nbviewer.org.</b></div><div class=\"sk-container\" hidden><div class=\"sk-item\"><div class=\"sk-estimator sk-toggleable\"><input class=\"sk-toggleable__control sk-hidden--visually\" id=\"sk-estimator-id-2\" type=\"checkbox\" checked><label for=\"sk-estimator-id-2\" class=\"sk-toggleable__label sk-toggleable__label-arrow\">RandomForestClassifier</label><div class=\"sk-toggleable__content\"><pre>RandomForestClassifier()</pre></div></div></div></div></div>"
      ],
      "text/plain": [
       "RandomForestClassifier()"
      ]
     },
     "execution_count": 63,
     "metadata": {},
     "output_type": "execute_result"
    }
   ],
   "source": [
    "model3.fit(X_train,y_train)"
   ]
  },
  {
   "cell_type": "code",
   "execution_count": 64,
   "id": "800cdd03",
   "metadata": {
    "execution": {
     "iopub.execute_input": "2023-08-20T00:27:49.001202Z",
     "iopub.status.busy": "2023-08-20T00:27:49.000451Z",
     "iopub.status.idle": "2023-08-20T00:27:50.285009Z",
     "shell.execute_reply": "2023-08-20T00:27:50.284105Z"
    },
    "papermill": {
     "duration": 1.316076,
     "end_time": "2023-08-20T00:27:50.287729",
     "exception": false,
     "start_time": "2023-08-20T00:27:48.971653",
     "status": "completed"
    },
    "tags": []
   },
   "outputs": [],
   "source": [
    "y_pred = model3.predict(X_test)"
   ]
  },
  {
   "cell_type": "code",
   "execution_count": 65,
   "id": "795733d5",
   "metadata": {
    "execution": {
     "iopub.execute_input": "2023-08-20T00:27:50.344364Z",
     "iopub.status.busy": "2023-08-20T00:27:50.343658Z",
     "iopub.status.idle": "2023-08-20T00:27:50.351653Z",
     "shell.execute_reply": "2023-08-20T00:27:50.350371Z"
    },
    "papermill": {
     "duration": 0.039112,
     "end_time": "2023-08-20T00:27:50.353753",
     "exception": false,
     "start_time": "2023-08-20T00:27:50.314641",
     "status": "completed"
    },
    "tags": []
   },
   "outputs": [
    {
     "name": "stdout",
     "output_type": "stream",
     "text": [
      "0.8563420531985052\n"
     ]
    }
   ],
   "source": [
    "score = accuracy_score(y_test, y_pred)\n",
    "print(score)"
   ]
  },
  {
   "cell_type": "code",
   "execution_count": 66,
   "id": "a6eb904c",
   "metadata": {
    "execution": {
     "iopub.execute_input": "2023-08-20T00:27:50.408999Z",
     "iopub.status.busy": "2023-08-20T00:27:50.408275Z",
     "iopub.status.idle": "2023-08-20T00:27:51.413373Z",
     "shell.execute_reply": "2023-08-20T00:27:51.412157Z"
    },
    "papermill": {
     "duration": 1.035636,
     "end_time": "2023-08-20T00:27:51.416021",
     "exception": false,
     "start_time": "2023-08-20T00:27:50.380385",
     "status": "completed"
    },
    "tags": []
   },
   "outputs": [],
   "source": [
    "X= tv.fit_transform(corpus).toarray()\n",
    "X_train, X_test, y_train, y_test = train_test_split(X, y, test_size=0.3, random_state=101)"
   ]
  },
  {
   "cell_type": "code",
   "execution_count": 67,
   "id": "3d8d0ac1",
   "metadata": {
    "execution": {
     "iopub.execute_input": "2023-08-20T00:27:51.472475Z",
     "iopub.status.busy": "2023-08-20T00:27:51.471756Z",
     "iopub.status.idle": "2023-08-20T00:29:19.983631Z",
     "shell.execute_reply": "2023-08-20T00:29:19.982560Z"
    },
    "papermill": {
     "duration": 88.568768,
     "end_time": "2023-08-20T00:29:20.012347",
     "exception": false,
     "start_time": "2023-08-20T00:27:51.443579",
     "status": "completed"
    },
    "tags": []
   },
   "outputs": [
    {
     "data": {
      "text/html": [
       "<style>#sk-container-id-3 {color: black;background-color: white;}#sk-container-id-3 pre{padding: 0;}#sk-container-id-3 div.sk-toggleable {background-color: white;}#sk-container-id-3 label.sk-toggleable__label {cursor: pointer;display: block;width: 100%;margin-bottom: 0;padding: 0.3em;box-sizing: border-box;text-align: center;}#sk-container-id-3 label.sk-toggleable__label-arrow:before {content: \"▸\";float: left;margin-right: 0.25em;color: #696969;}#sk-container-id-3 label.sk-toggleable__label-arrow:hover:before {color: black;}#sk-container-id-3 div.sk-estimator:hover label.sk-toggleable__label-arrow:before {color: black;}#sk-container-id-3 div.sk-toggleable__content {max-height: 0;max-width: 0;overflow: hidden;text-align: left;background-color: #f0f8ff;}#sk-container-id-3 div.sk-toggleable__content pre {margin: 0.2em;color: black;border-radius: 0.25em;background-color: #f0f8ff;}#sk-container-id-3 input.sk-toggleable__control:checked~div.sk-toggleable__content {max-height: 200px;max-width: 100%;overflow: auto;}#sk-container-id-3 input.sk-toggleable__control:checked~label.sk-toggleable__label-arrow:before {content: \"▾\";}#sk-container-id-3 div.sk-estimator input.sk-toggleable__control:checked~label.sk-toggleable__label {background-color: #d4ebff;}#sk-container-id-3 div.sk-label input.sk-toggleable__control:checked~label.sk-toggleable__label {background-color: #d4ebff;}#sk-container-id-3 input.sk-hidden--visually {border: 0;clip: rect(1px 1px 1px 1px);clip: rect(1px, 1px, 1px, 1px);height: 1px;margin: -1px;overflow: hidden;padding: 0;position: absolute;width: 1px;}#sk-container-id-3 div.sk-estimator {font-family: monospace;background-color: #f0f8ff;border: 1px dotted black;border-radius: 0.25em;box-sizing: border-box;margin-bottom: 0.5em;}#sk-container-id-3 div.sk-estimator:hover {background-color: #d4ebff;}#sk-container-id-3 div.sk-parallel-item::after {content: \"\";width: 100%;border-bottom: 1px solid gray;flex-grow: 1;}#sk-container-id-3 div.sk-label:hover label.sk-toggleable__label {background-color: #d4ebff;}#sk-container-id-3 div.sk-serial::before {content: \"\";position: absolute;border-left: 1px solid gray;box-sizing: border-box;top: 0;bottom: 0;left: 50%;z-index: 0;}#sk-container-id-3 div.sk-serial {display: flex;flex-direction: column;align-items: center;background-color: white;padding-right: 0.2em;padding-left: 0.2em;position: relative;}#sk-container-id-3 div.sk-item {position: relative;z-index: 1;}#sk-container-id-3 div.sk-parallel {display: flex;align-items: stretch;justify-content: center;background-color: white;position: relative;}#sk-container-id-3 div.sk-item::before, #sk-container-id-3 div.sk-parallel-item::before {content: \"\";position: absolute;border-left: 1px solid gray;box-sizing: border-box;top: 0;bottom: 0;left: 50%;z-index: -1;}#sk-container-id-3 div.sk-parallel-item {display: flex;flex-direction: column;z-index: 1;position: relative;background-color: white;}#sk-container-id-3 div.sk-parallel-item:first-child::after {align-self: flex-end;width: 50%;}#sk-container-id-3 div.sk-parallel-item:last-child::after {align-self: flex-start;width: 50%;}#sk-container-id-3 div.sk-parallel-item:only-child::after {width: 0;}#sk-container-id-3 div.sk-dashed-wrapped {border: 1px dashed gray;margin: 0 0.4em 0.5em 0.4em;box-sizing: border-box;padding-bottom: 0.4em;background-color: white;}#sk-container-id-3 div.sk-label label {font-family: monospace;font-weight: bold;display: inline-block;line-height: 1.2em;}#sk-container-id-3 div.sk-label-container {text-align: center;}#sk-container-id-3 div.sk-container {/* jupyter's `normalize.less` sets `[hidden] { display: none; }` but bootstrap.min.css set `[hidden] { display: none !important; }` so we also need the `!important` here to be able to override the default hidden behavior on the sphinx rendered scikit-learn.org. See: https://github.com/scikit-learn/scikit-learn/issues/21755 */display: inline-block !important;position: relative;}#sk-container-id-3 div.sk-text-repr-fallback {display: none;}</style><div id=\"sk-container-id-3\" class=\"sk-top-container\"><div class=\"sk-text-repr-fallback\"><pre>RandomForestClassifier()</pre><b>In a Jupyter environment, please rerun this cell to show the HTML representation or trust the notebook. <br />On GitHub, the HTML representation is unable to render, please try loading this page with nbviewer.org.</b></div><div class=\"sk-container\" hidden><div class=\"sk-item\"><div class=\"sk-estimator sk-toggleable\"><input class=\"sk-toggleable__control sk-hidden--visually\" id=\"sk-estimator-id-3\" type=\"checkbox\" checked><label for=\"sk-estimator-id-3\" class=\"sk-toggleable__label sk-toggleable__label-arrow\">RandomForestClassifier</label><div class=\"sk-toggleable__content\"><pre>RandomForestClassifier()</pre></div></div></div></div></div>"
      ],
      "text/plain": [
       "RandomForestClassifier()"
      ]
     },
     "execution_count": 67,
     "metadata": {},
     "output_type": "execute_result"
    }
   ],
   "source": [
    "model3.fit(X_train,y_train)"
   ]
  },
  {
   "cell_type": "code",
   "execution_count": 68,
   "id": "ba440239",
   "metadata": {
    "execution": {
     "iopub.execute_input": "2023-08-20T00:29:20.068096Z",
     "iopub.status.busy": "2023-08-20T00:29:20.067698Z",
     "iopub.status.idle": "2023-08-20T00:29:21.333073Z",
     "shell.execute_reply": "2023-08-20T00:29:21.331531Z"
    },
    "papermill": {
     "duration": 1.297058,
     "end_time": "2023-08-20T00:29:21.335831",
     "exception": false,
     "start_time": "2023-08-20T00:29:20.038773",
     "status": "completed"
    },
    "tags": []
   },
   "outputs": [],
   "source": [
    "y_pred = model3.predict(X_test)"
   ]
  },
  {
   "cell_type": "code",
   "execution_count": 69,
   "id": "3c8180b7",
   "metadata": {
    "execution": {
     "iopub.execute_input": "2023-08-20T00:29:21.392457Z",
     "iopub.status.busy": "2023-08-20T00:29:21.392030Z",
     "iopub.status.idle": "2023-08-20T00:29:21.399306Z",
     "shell.execute_reply": "2023-08-20T00:29:21.398217Z"
    },
    "papermill": {
     "duration": 0.038101,
     "end_time": "2023-08-20T00:29:21.401500",
     "exception": false,
     "start_time": "2023-08-20T00:29:21.363399",
     "status": "completed"
    },
    "tags": []
   },
   "outputs": [
    {
     "name": "stdout",
     "output_type": "stream",
     "text": [
      "0.8582105957353264\n"
     ]
    }
   ],
   "source": [
    "score = accuracy_score(y_test, y_pred)\n",
    "print(score)"
   ]
  }
 ],
 "metadata": {
  "kernelspec": {
   "display_name": "Python 3",
   "language": "python",
   "name": "python3"
  },
  "language_info": {
   "codemirror_mode": {
    "name": "ipython",
    "version": 3
   },
   "file_extension": ".py",
   "mimetype": "text/x-python",
   "name": "python",
   "nbconvert_exporter": "python",
   "pygments_lexer": "ipython3",
   "version": "3.10.12"
  },
  "papermill": {
   "default_parameters": {},
   "duration": 246.831579,
   "end_time": "2023-08-20T00:29:22.552598",
   "environment_variables": {},
   "exception": null,
   "input_path": "__notebook__.ipynb",
   "output_path": "__notebook__.ipynb",
   "parameters": {},
   "start_time": "2023-08-20T00:25:15.721019",
   "version": "2.4.0"
  }
 },
 "nbformat": 4,
 "nbformat_minor": 5
}
